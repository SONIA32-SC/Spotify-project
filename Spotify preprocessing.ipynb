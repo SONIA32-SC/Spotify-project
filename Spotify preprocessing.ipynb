{
 "cells": [
  {
   "cell_type": "markdown",
   "id": "ebd45f42-92ea-489b-bedc-2b0b75795222",
   "metadata": {},
   "source": [
    "Spotify preprocessing"
   ]
  },
  {
   "cell_type": "code",
   "execution_count": 1,
   "id": "54e73533-5618-470f-b76b-fd6207991063",
   "metadata": {},
   "outputs": [],
   "source": [
    "# Importing libraries\n",
    "\n",
    "import pandas as pd\n",
    "import numpy as np\n",
    "import pickle\n",
    "import matplotlib.pyplot as plt\n",
    "import seaborn as sns\n",
    "from sklearn.linear_model import Ridge\n",
    "from sklearn.ensemble import RandomForestClassifier\n",
    "from sklearn.compose import ColumnTransformer\n",
    "from sklearn.model_selection import train_test_split, cross_validate\n",
    "from sklearn.preprocessing import StandardScaler\n",
    "from sklearn.preprocessing import OneHotEncoder\n",
    "from sklearn.linear_model import LinearRegression\n",
    "from sklearn.ensemble import RandomForestRegressor\n",
    "from sklearn.metrics import r2_score, mean_squared_error, mean_absolute_error\n",
    "from sklearn.pipeline import make_pipeline\n",
    "from sklearn.impute import SimpleImputer\n",
    "\n"
   ]
  },
  {
   "cell_type": "code",
   "execution_count": 2,
   "id": "7e33cf9b-5dd0-47cf-9533-d13d28daaa5d",
   "metadata": {},
   "outputs": [
    {
     "data": {
      "text/html": [
       "<div>\n",
       "<style scoped>\n",
       "    .dataframe tbody tr th:only-of-type {\n",
       "        vertical-align: middle;\n",
       "    }\n",
       "\n",
       "    .dataframe tbody tr th {\n",
       "        vertical-align: top;\n",
       "    }\n",
       "\n",
       "    .dataframe thead th {\n",
       "        text-align: right;\n",
       "    }\n",
       "</style>\n",
       "<table border=\"1\" class=\"dataframe\">\n",
       "  <thead>\n",
       "    <tr style=\"text-align: right;\">\n",
       "      <th></th>\n",
       "      <th>Unnamed: 0.1</th>\n",
       "      <th>Unnamed: 0</th>\n",
       "      <th>genre</th>\n",
       "      <th>year</th>\n",
       "      <th>track_name</th>\n",
       "      <th>popularity</th>\n",
       "      <th>danceability</th>\n",
       "      <th>loudness</th>\n",
       "      <th>acousticness</th>\n",
       "      <th>instrumentalness</th>\n",
       "      <th>liveness</th>\n",
       "      <th>tempo</th>\n",
       "      <th>duration_ms</th>\n",
       "      <th>GDP_year</th>\n",
       "      <th>GDP</th>\n",
       "      <th>duration_min</th>\n",
       "    </tr>\n",
       "  </thead>\n",
       "  <tbody>\n",
       "    <tr>\n",
       "      <th>0</th>\n",
       "      <td>0</td>\n",
       "      <td>0</td>\n",
       "      <td>acoustic</td>\n",
       "      <td>2000</td>\n",
       "      <td>Easy Tonight</td>\n",
       "      <td>37</td>\n",
       "      <td>0.470</td>\n",
       "      <td>-8.018</td>\n",
       "      <td>0.259</td>\n",
       "      <td>0.000000</td>\n",
       "      <td>0.2040</td>\n",
       "      <td>84.843</td>\n",
       "      <td>246600</td>\n",
       "      <td>2000.0</td>\n",
       "      <td>1.025230e+13</td>\n",
       "      <td>4.110000</td>\n",
       "    </tr>\n",
       "    <tr>\n",
       "      <th>1</th>\n",
       "      <td>1</td>\n",
       "      <td>1</td>\n",
       "      <td>opera</td>\n",
       "      <td>2000</td>\n",
       "      <td>Blumenlieder, Op. 500: No. 7, Herbstzeitlosen</td>\n",
       "      <td>0</td>\n",
       "      <td>0.258</td>\n",
       "      <td>-29.012</td>\n",
       "      <td>0.991</td>\n",
       "      <td>0.001190</td>\n",
       "      <td>0.0790</td>\n",
       "      <td>89.835</td>\n",
       "      <td>157920</td>\n",
       "      <td>2001.0</td>\n",
       "      <td>1.058180e+13</td>\n",
       "      <td>2.632000</td>\n",
       "    </tr>\n",
       "    <tr>\n",
       "      <th>2</th>\n",
       "      <td>2</td>\n",
       "      <td>2</td>\n",
       "      <td>opera</td>\n",
       "      <td>2000</td>\n",
       "      <td>Blumenlieder, Op. 500: No. 15, Feuernelken</td>\n",
       "      <td>0</td>\n",
       "      <td>0.432</td>\n",
       "      <td>-26.235</td>\n",
       "      <td>0.989</td>\n",
       "      <td>0.002200</td>\n",
       "      <td>0.0618</td>\n",
       "      <td>136.726</td>\n",
       "      <td>193187</td>\n",
       "      <td>2002.0</td>\n",
       "      <td>1.093640e+13</td>\n",
       "      <td>3.219783</td>\n",
       "    </tr>\n",
       "    <tr>\n",
       "      <th>3</th>\n",
       "      <td>3</td>\n",
       "      <td>3</td>\n",
       "      <td>opera</td>\n",
       "      <td>2000</td>\n",
       "      <td>Die Gräfin Mariza: Einmal möchte ich wieder ta...</td>\n",
       "      <td>0</td>\n",
       "      <td>0.327</td>\n",
       "      <td>-14.306</td>\n",
       "      <td>0.963</td>\n",
       "      <td>0.000832</td>\n",
       "      <td>0.0888</td>\n",
       "      <td>97.870</td>\n",
       "      <td>208040</td>\n",
       "      <td>2003.0</td>\n",
       "      <td>1.145820e+13</td>\n",
       "      <td>3.467333</td>\n",
       "    </tr>\n",
       "    <tr>\n",
       "      <th>4</th>\n",
       "      <td>4</td>\n",
       "      <td>4</td>\n",
       "      <td>opera</td>\n",
       "      <td>2000</td>\n",
       "      <td>Blumenlieder, Op. 500: No. 12, Anemonen</td>\n",
       "      <td>0</td>\n",
       "      <td>0.385</td>\n",
       "      <td>-24.274</td>\n",
       "      <td>0.992</td>\n",
       "      <td>0.002490</td>\n",
       "      <td>0.0712</td>\n",
       "      <td>83.645</td>\n",
       "      <td>169893</td>\n",
       "      <td>2004.0</td>\n",
       "      <td>1.221370e+13</td>\n",
       "      <td>2.831550</td>\n",
       "    </tr>\n",
       "  </tbody>\n",
       "</table>\n",
       "</div>"
      ],
      "text/plain": [
       "   Unnamed: 0.1  Unnamed: 0     genre  year  \\\n",
       "0             0           0  acoustic  2000   \n",
       "1             1           1     opera  2000   \n",
       "2             2           2     opera  2000   \n",
       "3             3           3     opera  2000   \n",
       "4             4           4     opera  2000   \n",
       "\n",
       "                                          track_name  popularity  \\\n",
       "0                                       Easy Tonight          37   \n",
       "1      Blumenlieder, Op. 500: No. 7, Herbstzeitlosen           0   \n",
       "2         Blumenlieder, Op. 500: No. 15, Feuernelken           0   \n",
       "3  Die Gräfin Mariza: Einmal möchte ich wieder ta...           0   \n",
       "4            Blumenlieder, Op. 500: No. 12, Anemonen           0   \n",
       "\n",
       "   danceability  loudness  acousticness  instrumentalness  liveness    tempo  \\\n",
       "0         0.470    -8.018         0.259          0.000000    0.2040   84.843   \n",
       "1         0.258   -29.012         0.991          0.001190    0.0790   89.835   \n",
       "2         0.432   -26.235         0.989          0.002200    0.0618  136.726   \n",
       "3         0.327   -14.306         0.963          0.000832    0.0888   97.870   \n",
       "4         0.385   -24.274         0.992          0.002490    0.0712   83.645   \n",
       "\n",
       "   duration_ms  GDP_year           GDP  duration_min  \n",
       "0       246600    2000.0  1.025230e+13      4.110000  \n",
       "1       157920    2001.0  1.058180e+13      2.632000  \n",
       "2       193187    2002.0  1.093640e+13      3.219783  \n",
       "3       208040    2003.0  1.145820e+13      3.467333  \n",
       "4       169893    2004.0  1.221370e+13      2.831550  "
      ]
     },
     "execution_count": 2,
     "metadata": {},
     "output_type": "execute_result"
    }
   ],
   "source": [
    "# loading the data\n",
    "\n",
    "Merged_prep = pd.read_csv('Merged_eda.csv')\n",
    "Merged_prep.head()"
   ]
  },
  {
   "cell_type": "code",
   "execution_count": 3,
   "id": "d976fecb-9657-4134-8f76-ad54a4361364",
   "metadata": {},
   "outputs": [],
   "source": [
    "# Dropping Unnamed columns\n",
    "\n",
    "Merged_prep= Merged_prep.drop(columns= ['Unnamed: 0.1','Unnamed: 0'], axis =1)\n"
   ]
  },
  {
   "cell_type": "code",
   "execution_count": 4,
   "id": "7c6b2d92-4367-446a-91ef-f5419d4fe4fd",
   "metadata": {},
   "outputs": [
    {
     "data": {
      "text/html": [
       "<div>\n",
       "<style scoped>\n",
       "    .dataframe tbody tr th:only-of-type {\n",
       "        vertical-align: middle;\n",
       "    }\n",
       "\n",
       "    .dataframe tbody tr th {\n",
       "        vertical-align: top;\n",
       "    }\n",
       "\n",
       "    .dataframe thead th {\n",
       "        text-align: right;\n",
       "    }\n",
       "</style>\n",
       "<table border=\"1\" class=\"dataframe\">\n",
       "  <thead>\n",
       "    <tr style=\"text-align: right;\">\n",
       "      <th></th>\n",
       "      <th>genre</th>\n",
       "      <th>year</th>\n",
       "      <th>track_name</th>\n",
       "      <th>popularity</th>\n",
       "      <th>danceability</th>\n",
       "      <th>loudness</th>\n",
       "      <th>acousticness</th>\n",
       "      <th>instrumentalness</th>\n",
       "      <th>liveness</th>\n",
       "      <th>tempo</th>\n",
       "      <th>duration_ms</th>\n",
       "      <th>GDP_year</th>\n",
       "      <th>GDP</th>\n",
       "      <th>duration_min</th>\n",
       "    </tr>\n",
       "  </thead>\n",
       "  <tbody>\n",
       "    <tr>\n",
       "      <th>0</th>\n",
       "      <td>acoustic</td>\n",
       "      <td>2000</td>\n",
       "      <td>Easy Tonight</td>\n",
       "      <td>37</td>\n",
       "      <td>0.470</td>\n",
       "      <td>-8.018</td>\n",
       "      <td>0.259</td>\n",
       "      <td>0.000000</td>\n",
       "      <td>0.2040</td>\n",
       "      <td>84.843</td>\n",
       "      <td>246600</td>\n",
       "      <td>2000.0</td>\n",
       "      <td>1.025230e+13</td>\n",
       "      <td>4.110000</td>\n",
       "    </tr>\n",
       "    <tr>\n",
       "      <th>1</th>\n",
       "      <td>opera</td>\n",
       "      <td>2000</td>\n",
       "      <td>Blumenlieder, Op. 500: No. 7, Herbstzeitlosen</td>\n",
       "      <td>0</td>\n",
       "      <td>0.258</td>\n",
       "      <td>-29.012</td>\n",
       "      <td>0.991</td>\n",
       "      <td>0.001190</td>\n",
       "      <td>0.0790</td>\n",
       "      <td>89.835</td>\n",
       "      <td>157920</td>\n",
       "      <td>2001.0</td>\n",
       "      <td>1.058180e+13</td>\n",
       "      <td>2.632000</td>\n",
       "    </tr>\n",
       "    <tr>\n",
       "      <th>2</th>\n",
       "      <td>opera</td>\n",
       "      <td>2000</td>\n",
       "      <td>Blumenlieder, Op. 500: No. 15, Feuernelken</td>\n",
       "      <td>0</td>\n",
       "      <td>0.432</td>\n",
       "      <td>-26.235</td>\n",
       "      <td>0.989</td>\n",
       "      <td>0.002200</td>\n",
       "      <td>0.0618</td>\n",
       "      <td>136.726</td>\n",
       "      <td>193187</td>\n",
       "      <td>2002.0</td>\n",
       "      <td>1.093640e+13</td>\n",
       "      <td>3.219783</td>\n",
       "    </tr>\n",
       "    <tr>\n",
       "      <th>3</th>\n",
       "      <td>opera</td>\n",
       "      <td>2000</td>\n",
       "      <td>Die Gräfin Mariza: Einmal möchte ich wieder ta...</td>\n",
       "      <td>0</td>\n",
       "      <td>0.327</td>\n",
       "      <td>-14.306</td>\n",
       "      <td>0.963</td>\n",
       "      <td>0.000832</td>\n",
       "      <td>0.0888</td>\n",
       "      <td>97.870</td>\n",
       "      <td>208040</td>\n",
       "      <td>2003.0</td>\n",
       "      <td>1.145820e+13</td>\n",
       "      <td>3.467333</td>\n",
       "    </tr>\n",
       "    <tr>\n",
       "      <th>4</th>\n",
       "      <td>opera</td>\n",
       "      <td>2000</td>\n",
       "      <td>Blumenlieder, Op. 500: No. 12, Anemonen</td>\n",
       "      <td>0</td>\n",
       "      <td>0.385</td>\n",
       "      <td>-24.274</td>\n",
       "      <td>0.992</td>\n",
       "      <td>0.002490</td>\n",
       "      <td>0.0712</td>\n",
       "      <td>83.645</td>\n",
       "      <td>169893</td>\n",
       "      <td>2004.0</td>\n",
       "      <td>1.221370e+13</td>\n",
       "      <td>2.831550</td>\n",
       "    </tr>\n",
       "  </tbody>\n",
       "</table>\n",
       "</div>"
      ],
      "text/plain": [
       "      genre  year                                         track_name  \\\n",
       "0  acoustic  2000                                       Easy Tonight   \n",
       "1     opera  2000      Blumenlieder, Op. 500: No. 7, Herbstzeitlosen   \n",
       "2     opera  2000         Blumenlieder, Op. 500: No. 15, Feuernelken   \n",
       "3     opera  2000  Die Gräfin Mariza: Einmal möchte ich wieder ta...   \n",
       "4     opera  2000            Blumenlieder, Op. 500: No. 12, Anemonen   \n",
       "\n",
       "   popularity  danceability  loudness  acousticness  instrumentalness  \\\n",
       "0          37         0.470    -8.018         0.259          0.000000   \n",
       "1           0         0.258   -29.012         0.991          0.001190   \n",
       "2           0         0.432   -26.235         0.989          0.002200   \n",
       "3           0         0.327   -14.306         0.963          0.000832   \n",
       "4           0         0.385   -24.274         0.992          0.002490   \n",
       "\n",
       "   liveness    tempo  duration_ms  GDP_year           GDP  duration_min  \n",
       "0    0.2040   84.843       246600    2000.0  1.025230e+13      4.110000  \n",
       "1    0.0790   89.835       157920    2001.0  1.058180e+13      2.632000  \n",
       "2    0.0618  136.726       193187    2002.0  1.093640e+13      3.219783  \n",
       "3    0.0888   97.870       208040    2003.0  1.145820e+13      3.467333  \n",
       "4    0.0712   83.645       169893    2004.0  1.221370e+13      2.831550  "
      ]
     },
     "execution_count": 4,
     "metadata": {},
     "output_type": "execute_result"
    }
   ],
   "source": [
    "Merged_prep.head()"
   ]
  },
  {
   "cell_type": "code",
   "execution_count": 5,
   "id": "d81f1af8-6a0d-4397-a7ac-97419f1ad4e8",
   "metadata": {},
   "outputs": [
    {
     "data": {
      "text/plain": [
       "genre                     0\n",
       "year                      0\n",
       "track_name                1\n",
       "popularity                0\n",
       "danceability              0\n",
       "loudness                  0\n",
       "acousticness              0\n",
       "instrumentalness          0\n",
       "liveness                  0\n",
       "tempo                     0\n",
       "duration_ms               0\n",
       "GDP_year            1159740\n",
       "GDP                 1159740\n",
       "duration_min              0\n",
       "dtype: int64"
      ]
     },
     "execution_count": 5,
     "metadata": {},
     "output_type": "execute_result"
    }
   ],
   "source": [
    "Merged_prep.isnull().sum()"
   ]
  },
  {
   "cell_type": "markdown",
   "id": "5643755b-663e-400b-9103-085913caf60b",
   "metadata": {},
   "source": [
    "The first stage of preprocessing requires preparing columns before modelling. This will be done using ColumnTransformer which allows different columns or column subsets of the input to be transformed separately and the features generated by each transformer to be concatenated to form a single feature space\n"
   ]
  },
  {
   "cell_type": "code",
   "execution_count": 6,
   "id": "0428732a-e338-41f2-ba92-b887169b091d",
   "metadata": {},
   "outputs": [],
   "source": [
    "# Defining X by dropping all columns with NaN values and genre column beacuse it has variable values\n",
    "\n",
    "X= Merged_prep[['danceability','loudness','acousticness','instrumentalness','tempo','duration_min']]\n"
   ]
  },
  {
   "cell_type": "code",
   "execution_count": 7,
   "id": "0c00ea9f-77f4-47d7-be78-2a5464ff0489",
   "metadata": {},
   "outputs": [],
   "source": [
    "# Defining y\n",
    "\n",
    "y= Merged_prep['popularity']"
   ]
  },
  {
   "cell_type": "code",
   "execution_count": 8,
   "id": "56712746-7397-43aa-8b8a-bf97c11a0591",
   "metadata": {},
   "outputs": [],
   "source": [
    "# Determine numerical and categorical columns\n",
    "\n",
    "num= X.select_dtypes(include=['int', 'float']).columns\n",
    "cat= X.select_dtypes(include=['object','bool']).columns\n"
   ]
  },
  {
   "cell_type": "markdown",
   "id": "1b5d7f13-204a-4a29-a294-0d3db04022ca",
   "metadata": {},
   "source": [
    "Transforming columns using OneHotEncoder for categorical columns and StandardScaler for numerical columns"
   ]
  },
  {
   "cell_type": "code",
   "execution_count": 9,
   "id": "be9f9f45-5379-4db5-b7dc-2887a92cb461",
   "metadata": {},
   "outputs": [],
   "source": [
    "# Define the data preparation for the columns\n",
    "\n",
    "t= [('cat', OneHotEncoder(), cat), ('num', StandardScaler(), num)]\n",
    "col_transform = ColumnTransformer(transformers=t)"
   ]
  },
  {
   "cell_type": "markdown",
   "id": "539468b9-6e6a-4505-94bc-05ac46f8b01c",
   "metadata": {},
   "source": [
    "The second stage of preprocessing requires that data is split into training and testing sets. To do this, the train/test split from sklearn.model_selection will be used."
   ]
  },
  {
   "cell_type": "code",
   "execution_count": 10,
   "id": "7e456141-d82b-4620-a4f5-07a104bae9c0",
   "metadata": {},
   "outputs": [
    {
     "data": {
      "text/plain": [
       "(869823.0, 289941.0)"
      ]
     },
     "execution_count": 10,
     "metadata": {},
     "output_type": "execute_result"
    }
   ],
   "source": [
    "# Using train/test split to prepare training data\n",
    "\n",
    "len(Merged_prep) * 0.75, len(Merged_prep)* 0.25"
   ]
  },
  {
   "cell_type": "code",
   "execution_count": 11,
   "id": "43551741-2f67-4af2-b757-3a9372f9fa26",
   "metadata": {},
   "outputs": [],
   "source": [
    "X_train, X_test, y_train, y_test = train_test_split(Merged_prep.drop(columns=['popularity','genre','track_name'],axis=1), \n",
    "                                                    Merged_prep.popularity, test_size=0.25, \n",
    "                                                    random_state=47)"
   ]
  },
  {
   "cell_type": "code",
   "execution_count": 12,
   "id": "27b38144-a965-47c0-b0fb-0111a4021819",
   "metadata": {},
   "outputs": [
    {
     "data": {
      "text/plain": [
       "((869823, 11), (289941, 11))"
      ]
     },
     "execution_count": 12,
     "metadata": {},
     "output_type": "execute_result"
    }
   ],
   "source": [
    "X_train.shape, X_test.shape"
   ]
  },
  {
   "cell_type": "code",
   "execution_count": 13,
   "id": "9e3ff7df-9ef4-4dba-9d22-6cdcc9eae46a",
   "metadata": {},
   "outputs": [
    {
     "data": {
      "text/plain": [
       "((869823,), (289941,))"
      ]
     },
     "execution_count": 13,
     "metadata": {},
     "output_type": "execute_result"
    }
   ],
   "source": [
    "y_train.shape, y_test.shape"
   ]
  },
  {
   "cell_type": "code",
   "execution_count": 14,
   "id": "72ef89e6-a970-41df-8e9c-df77aab3d640",
   "metadata": {},
   "outputs": [
    {
     "data": {
      "text/plain": [
       "year                  int64\n",
       "danceability        float64\n",
       "loudness            float64\n",
       "acousticness        float64\n",
       "instrumentalness    float64\n",
       "liveness            float64\n",
       "tempo               float64\n",
       "duration_ms           int64\n",
       "GDP_year            float64\n",
       "GDP                 float64\n",
       "duration_min        float64\n",
       "dtype: object"
      ]
     },
     "execution_count": 14,
     "metadata": {},
     "output_type": "execute_result"
    }
   ],
   "source": [
    "# Verify X_train values are all numeric\n",
    "\n",
    "X_train.dtypes"
   ]
  },
  {
   "cell_type": "code",
   "execution_count": 15,
   "id": "9f8213f9-9b77-4577-ba84-942bee4ccd21",
   "metadata": {},
   "outputs": [
    {
     "data": {
      "text/plain": [
       "year                  int64\n",
       "danceability        float64\n",
       "loudness            float64\n",
       "acousticness        float64\n",
       "instrumentalness    float64\n",
       "liveness            float64\n",
       "tempo               float64\n",
       "duration_ms           int64\n",
       "GDP_year            float64\n",
       "GDP                 float64\n",
       "duration_min        float64\n",
       "dtype: object"
      ]
     },
     "execution_count": 15,
     "metadata": {},
     "output_type": "execute_result"
    }
   ],
   "source": [
    "# Verify X_test values are all numeric\n",
    "\n",
    "X_test.dtypes"
   ]
  },
  {
   "cell_type": "markdown",
   "id": "8b9f2b14-9c4c-4347-9aca-0a1274566582",
   "metadata": {},
   "source": [
    "At the third stage, models will be choosen and a pipeline which contains all the steps required in preparing the data and the model will be defined. \n",
    "\n",
    "For the proposed predictive model, linear regression and Random forest models will be used. For the linear regression model, it is necessary to apply Ridge regression instead because of the detection of multicollinearity between some of the predictor variables at eda stage of the project.\n",
    "\n",
    "For both the Ridge Regression and RandomForest models that will be tested this dataset, cross_validate from sklearn.model_selection will be used to fit and assess the models performance.\n",
    "Both models will be assessed using: \n",
    "1. Mean Absolute Error scores which will be calculated for both.\n",
    "2. Coefficient of determination/r2\n",
    "   "
   ]
  },
  {
   "cell_type": "code",
   "execution_count": 16,
   "id": "555e651c-9b44-4501-9fea-85d60c26089c",
   "metadata": {},
   "outputs": [],
   "source": [
    "# Defining a Ridge Regression model\n",
    "\n",
    "RR = Ridge(alpha = 0.1)\n"
   ]
  },
  {
   "cell_type": "code",
   "execution_count": 17,
   "id": "704348b6-0a4d-4b3b-9828-7fc4a1cfc5af",
   "metadata": {},
   "outputs": [],
   "source": [
    "# Defining the data preparation and RR model pipeline\n",
    "\n",
    "RR_pipeline = make_pipeline(col_transform,RR)\n"
   ]
  },
  {
   "cell_type": "code",
   "execution_count": 18,
   "id": "1533f903-6201-42c7-9d4b-7376ad6d9c66",
   "metadata": {},
   "outputs": [
    {
     "data": {
      "text/html": [
       "<style>#sk-container-id-1 {color: black;background-color: white;}#sk-container-id-1 pre{padding: 0;}#sk-container-id-1 div.sk-toggleable {background-color: white;}#sk-container-id-1 label.sk-toggleable__label {cursor: pointer;display: block;width: 100%;margin-bottom: 0;padding: 0.3em;box-sizing: border-box;text-align: center;}#sk-container-id-1 label.sk-toggleable__label-arrow:before {content: \"▸\";float: left;margin-right: 0.25em;color: #696969;}#sk-container-id-1 label.sk-toggleable__label-arrow:hover:before {color: black;}#sk-container-id-1 div.sk-estimator:hover label.sk-toggleable__label-arrow:before {color: black;}#sk-container-id-1 div.sk-toggleable__content {max-height: 0;max-width: 0;overflow: hidden;text-align: left;background-color: #f0f8ff;}#sk-container-id-1 div.sk-toggleable__content pre {margin: 0.2em;color: black;border-radius: 0.25em;background-color: #f0f8ff;}#sk-container-id-1 input.sk-toggleable__control:checked~div.sk-toggleable__content {max-height: 200px;max-width: 100%;overflow: auto;}#sk-container-id-1 input.sk-toggleable__control:checked~label.sk-toggleable__label-arrow:before {content: \"▾\";}#sk-container-id-1 div.sk-estimator input.sk-toggleable__control:checked~label.sk-toggleable__label {background-color: #d4ebff;}#sk-container-id-1 div.sk-label input.sk-toggleable__control:checked~label.sk-toggleable__label {background-color: #d4ebff;}#sk-container-id-1 input.sk-hidden--visually {border: 0;clip: rect(1px 1px 1px 1px);clip: rect(1px, 1px, 1px, 1px);height: 1px;margin: -1px;overflow: hidden;padding: 0;position: absolute;width: 1px;}#sk-container-id-1 div.sk-estimator {font-family: monospace;background-color: #f0f8ff;border: 1px dotted black;border-radius: 0.25em;box-sizing: border-box;margin-bottom: 0.5em;}#sk-container-id-1 div.sk-estimator:hover {background-color: #d4ebff;}#sk-container-id-1 div.sk-parallel-item::after {content: \"\";width: 100%;border-bottom: 1px solid gray;flex-grow: 1;}#sk-container-id-1 div.sk-label:hover label.sk-toggleable__label {background-color: #d4ebff;}#sk-container-id-1 div.sk-serial::before {content: \"\";position: absolute;border-left: 1px solid gray;box-sizing: border-box;top: 0;bottom: 0;left: 50%;z-index: 0;}#sk-container-id-1 div.sk-serial {display: flex;flex-direction: column;align-items: center;background-color: white;padding-right: 0.2em;padding-left: 0.2em;position: relative;}#sk-container-id-1 div.sk-item {position: relative;z-index: 1;}#sk-container-id-1 div.sk-parallel {display: flex;align-items: stretch;justify-content: center;background-color: white;position: relative;}#sk-container-id-1 div.sk-item::before, #sk-container-id-1 div.sk-parallel-item::before {content: \"\";position: absolute;border-left: 1px solid gray;box-sizing: border-box;top: 0;bottom: 0;left: 50%;z-index: -1;}#sk-container-id-1 div.sk-parallel-item {display: flex;flex-direction: column;z-index: 1;position: relative;background-color: white;}#sk-container-id-1 div.sk-parallel-item:first-child::after {align-self: flex-end;width: 50%;}#sk-container-id-1 div.sk-parallel-item:last-child::after {align-self: flex-start;width: 50%;}#sk-container-id-1 div.sk-parallel-item:only-child::after {width: 0;}#sk-container-id-1 div.sk-dashed-wrapped {border: 1px dashed gray;margin: 0 0.4em 0.5em 0.4em;box-sizing: border-box;padding-bottom: 0.4em;background-color: white;}#sk-container-id-1 div.sk-label label {font-family: monospace;font-weight: bold;display: inline-block;line-height: 1.2em;}#sk-container-id-1 div.sk-label-container {text-align: center;}#sk-container-id-1 div.sk-container {/* jupyter's `normalize.less` sets `[hidden] { display: none; }` but bootstrap.min.css set `[hidden] { display: none !important; }` so we also need the `!important` here to be able to override the default hidden behavior on the sphinx rendered scikit-learn.org. See: https://github.com/scikit-learn/scikit-learn/issues/21755 */display: inline-block !important;position: relative;}#sk-container-id-1 div.sk-text-repr-fallback {display: none;}</style><div id=\"sk-container-id-1\" class=\"sk-top-container\"><div class=\"sk-text-repr-fallback\"><pre>Pipeline(steps=[(&#x27;columntransformer&#x27;,\n",
       "                 ColumnTransformer(transformers=[(&#x27;cat&#x27;, OneHotEncoder(),\n",
       "                                                  Index([], dtype=&#x27;object&#x27;)),\n",
       "                                                 (&#x27;num&#x27;, StandardScaler(),\n",
       "                                                  Index([&#x27;danceability&#x27;, &#x27;loudness&#x27;, &#x27;acousticness&#x27;, &#x27;instrumentalness&#x27;, &#x27;tempo&#x27;,\n",
       "       &#x27;duration_min&#x27;],\n",
       "      dtype=&#x27;object&#x27;))])),\n",
       "                (&#x27;ridge&#x27;, Ridge(alpha=0.1))])</pre><b>In a Jupyter environment, please rerun this cell to show the HTML representation or trust the notebook. <br />On GitHub, the HTML representation is unable to render, please try loading this page with nbviewer.org.</b></div><div class=\"sk-container\" hidden><div class=\"sk-item sk-dashed-wrapped\"><div class=\"sk-label-container\"><div class=\"sk-label sk-toggleable\"><input class=\"sk-toggleable__control sk-hidden--visually\" id=\"sk-estimator-id-1\" type=\"checkbox\" ><label for=\"sk-estimator-id-1\" class=\"sk-toggleable__label sk-toggleable__label-arrow\">Pipeline</label><div class=\"sk-toggleable__content\"><pre>Pipeline(steps=[(&#x27;columntransformer&#x27;,\n",
       "                 ColumnTransformer(transformers=[(&#x27;cat&#x27;, OneHotEncoder(),\n",
       "                                                  Index([], dtype=&#x27;object&#x27;)),\n",
       "                                                 (&#x27;num&#x27;, StandardScaler(),\n",
       "                                                  Index([&#x27;danceability&#x27;, &#x27;loudness&#x27;, &#x27;acousticness&#x27;, &#x27;instrumentalness&#x27;, &#x27;tempo&#x27;,\n",
       "       &#x27;duration_min&#x27;],\n",
       "      dtype=&#x27;object&#x27;))])),\n",
       "                (&#x27;ridge&#x27;, Ridge(alpha=0.1))])</pre></div></div></div><div class=\"sk-serial\"><div class=\"sk-item sk-dashed-wrapped\"><div class=\"sk-label-container\"><div class=\"sk-label sk-toggleable\"><input class=\"sk-toggleable__control sk-hidden--visually\" id=\"sk-estimator-id-2\" type=\"checkbox\" ><label for=\"sk-estimator-id-2\" class=\"sk-toggleable__label sk-toggleable__label-arrow\">columntransformer: ColumnTransformer</label><div class=\"sk-toggleable__content\"><pre>ColumnTransformer(transformers=[(&#x27;cat&#x27;, OneHotEncoder(),\n",
       "                                 Index([], dtype=&#x27;object&#x27;)),\n",
       "                                (&#x27;num&#x27;, StandardScaler(),\n",
       "                                 Index([&#x27;danceability&#x27;, &#x27;loudness&#x27;, &#x27;acousticness&#x27;, &#x27;instrumentalness&#x27;, &#x27;tempo&#x27;,\n",
       "       &#x27;duration_min&#x27;],\n",
       "      dtype=&#x27;object&#x27;))])</pre></div></div></div><div class=\"sk-parallel\"><div class=\"sk-parallel-item\"><div class=\"sk-item\"><div class=\"sk-label-container\"><div class=\"sk-label sk-toggleable\"><input class=\"sk-toggleable__control sk-hidden--visually\" id=\"sk-estimator-id-3\" type=\"checkbox\" ><label for=\"sk-estimator-id-3\" class=\"sk-toggleable__label sk-toggleable__label-arrow\">cat</label><div class=\"sk-toggleable__content\"><pre>Index([], dtype=&#x27;object&#x27;)</pre></div></div></div><div class=\"sk-serial\"><div class=\"sk-item\"><div class=\"sk-estimator sk-toggleable\"><input class=\"sk-toggleable__control sk-hidden--visually\" id=\"sk-estimator-id-4\" type=\"checkbox\" ><label for=\"sk-estimator-id-4\" class=\"sk-toggleable__label sk-toggleable__label-arrow\">OneHotEncoder</label><div class=\"sk-toggleable__content\"><pre>OneHotEncoder()</pre></div></div></div></div></div></div><div class=\"sk-parallel-item\"><div class=\"sk-item\"><div class=\"sk-label-container\"><div class=\"sk-label sk-toggleable\"><input class=\"sk-toggleable__control sk-hidden--visually\" id=\"sk-estimator-id-5\" type=\"checkbox\" ><label for=\"sk-estimator-id-5\" class=\"sk-toggleable__label sk-toggleable__label-arrow\">num</label><div class=\"sk-toggleable__content\"><pre>Index([&#x27;danceability&#x27;, &#x27;loudness&#x27;, &#x27;acousticness&#x27;, &#x27;instrumentalness&#x27;, &#x27;tempo&#x27;,\n",
       "       &#x27;duration_min&#x27;],\n",
       "      dtype=&#x27;object&#x27;)</pre></div></div></div><div class=\"sk-serial\"><div class=\"sk-item\"><div class=\"sk-estimator sk-toggleable\"><input class=\"sk-toggleable__control sk-hidden--visually\" id=\"sk-estimator-id-6\" type=\"checkbox\" ><label for=\"sk-estimator-id-6\" class=\"sk-toggleable__label sk-toggleable__label-arrow\">StandardScaler</label><div class=\"sk-toggleable__content\"><pre>StandardScaler()</pre></div></div></div></div></div></div></div></div><div class=\"sk-item\"><div class=\"sk-estimator sk-toggleable\"><input class=\"sk-toggleable__control sk-hidden--visually\" id=\"sk-estimator-id-7\" type=\"checkbox\" ><label for=\"sk-estimator-id-7\" class=\"sk-toggleable__label sk-toggleable__label-arrow\">Ridge</label><div class=\"sk-toggleable__content\"><pre>Ridge(alpha=0.1)</pre></div></div></div></div></div></div></div>"
      ],
      "text/plain": [
       "Pipeline(steps=[('columntransformer',\n",
       "                 ColumnTransformer(transformers=[('cat', OneHotEncoder(),\n",
       "                                                  Index([], dtype='object')),\n",
       "                                                 ('num', StandardScaler(),\n",
       "                                                  Index(['danceability', 'loudness', 'acousticness', 'instrumentalness', 'tempo',\n",
       "       'duration_min'],\n",
       "      dtype='object'))])),\n",
       "                ('ridge', Ridge(alpha=0.1))])"
      ]
     },
     "execution_count": 18,
     "metadata": {},
     "output_type": "execute_result"
    }
   ],
   "source": [
    "RR_pipeline.fit(X_train,y_train)\n"
   ]
  },
  {
   "cell_type": "code",
   "execution_count": 19,
   "id": "dcb87df2-12e1-46e1-9fee-f62f94f2c7cb",
   "metadata": {},
   "outputs": [],
   "source": [
    "y_pred = RR_pipeline.predict(X_test)"
   ]
  },
  {
   "cell_type": "code",
   "execution_count": 20,
   "id": "6442a2da-6a7a-45fd-8ec1-e18719eebf2b",
   "metadata": {},
   "outputs": [],
   "source": [
    "RR_cv_results= cross_validate(RR_pipeline, X_train, y_train, cv=5)"
   ]
  },
  {
   "cell_type": "code",
   "execution_count": 21,
   "id": "89329c40-47ba-4043-8c63-ffc596ca7189",
   "metadata": {},
   "outputs": [
    {
     "name": "stdout",
     "output_type": "stream",
     "text": [
      "MAE: 0.040 (0.001)\n"
     ]
    }
   ],
   "source": [
    "# Evaluate the RR_ pipeline using cross validation and calculate MAE\n",
    "\n",
    "RR_cv_scores = RR_cv_results['test_score']\n",
    "\n",
    "# convert MAE scores to positive values\n",
    "\n",
    "scores = np.abs(RR_cv_scores)\n",
    "\n",
    "# summarize the model performance\n",
    "\n",
    "print('MAE: %.3f (%.3f)' % (np.mean(scores), np.std(scores)))\n"
   ]
  },
  {
   "cell_type": "code",
   "execution_count": 22,
   "id": "3e5bff1d-de03-4b77-86fa-d1d579e53096",
   "metadata": {},
   "outputs": [],
   "source": [
    "y_tr_pred = RR_pipeline.predict(X_train)\n",
    "y_te_pred = RR_pipeline.predict(X_test)"
   ]
  },
  {
   "cell_type": "code",
   "execution_count": 23,
   "id": "007ecf20-366d-4c1f-8b1b-eea54395ef0c",
   "metadata": {},
   "outputs": [
    {
     "data": {
      "text/plain": [
       "(12.840940694671293, 12.823548471071229)"
      ]
     },
     "execution_count": 23,
     "metadata": {},
     "output_type": "execute_result"
    }
   ],
   "source": [
    "mean_absolute_error(y_train, y_tr_pred), mean_absolute_error(y_test, y_te_pred)"
   ]
  },
  {
   "cell_type": "code",
   "execution_count": 24,
   "id": "82e7d1f1-2c1b-4802-b196-1d0cdbe6a6dd",
   "metadata": {},
   "outputs": [
    {
     "data": {
      "text/plain": [
       "(0.039691455583923396, 0.039897379098701724)"
      ]
     },
     "execution_count": 24,
     "metadata": {},
     "output_type": "execute_result"
    }
   ],
   "source": [
    "r2_score(y_train, y_tr_pred), r2_score(y_test, y_te_pred)"
   ]
  },
  {
   "cell_type": "code",
   "execution_count": 25,
   "id": "6f8467fa-a69d-4fc2-bbc2-5a4c1332ed47",
   "metadata": {},
   "outputs": [],
   "source": [
    "# Defining a RandomForest model with 8 n_estimators\n",
    "\n",
    "Rf_8 = RandomForestClassifier(n_estimators = 8)"
   ]
  },
  {
   "cell_type": "code",
   "execution_count": 26,
   "id": "e2915d8d-cef9-458f-9050-a01693f1e2b2",
   "metadata": {},
   "outputs": [
    {
     "data": {
      "text/html": [
       "<style>#sk-container-id-2 {color: black;background-color: white;}#sk-container-id-2 pre{padding: 0;}#sk-container-id-2 div.sk-toggleable {background-color: white;}#sk-container-id-2 label.sk-toggleable__label {cursor: pointer;display: block;width: 100%;margin-bottom: 0;padding: 0.3em;box-sizing: border-box;text-align: center;}#sk-container-id-2 label.sk-toggleable__label-arrow:before {content: \"▸\";float: left;margin-right: 0.25em;color: #696969;}#sk-container-id-2 label.sk-toggleable__label-arrow:hover:before {color: black;}#sk-container-id-2 div.sk-estimator:hover label.sk-toggleable__label-arrow:before {color: black;}#sk-container-id-2 div.sk-toggleable__content {max-height: 0;max-width: 0;overflow: hidden;text-align: left;background-color: #f0f8ff;}#sk-container-id-2 div.sk-toggleable__content pre {margin: 0.2em;color: black;border-radius: 0.25em;background-color: #f0f8ff;}#sk-container-id-2 input.sk-toggleable__control:checked~div.sk-toggleable__content {max-height: 200px;max-width: 100%;overflow: auto;}#sk-container-id-2 input.sk-toggleable__control:checked~label.sk-toggleable__label-arrow:before {content: \"▾\";}#sk-container-id-2 div.sk-estimator input.sk-toggleable__control:checked~label.sk-toggleable__label {background-color: #d4ebff;}#sk-container-id-2 div.sk-label input.sk-toggleable__control:checked~label.sk-toggleable__label {background-color: #d4ebff;}#sk-container-id-2 input.sk-hidden--visually {border: 0;clip: rect(1px 1px 1px 1px);clip: rect(1px, 1px, 1px, 1px);height: 1px;margin: -1px;overflow: hidden;padding: 0;position: absolute;width: 1px;}#sk-container-id-2 div.sk-estimator {font-family: monospace;background-color: #f0f8ff;border: 1px dotted black;border-radius: 0.25em;box-sizing: border-box;margin-bottom: 0.5em;}#sk-container-id-2 div.sk-estimator:hover {background-color: #d4ebff;}#sk-container-id-2 div.sk-parallel-item::after {content: \"\";width: 100%;border-bottom: 1px solid gray;flex-grow: 1;}#sk-container-id-2 div.sk-label:hover label.sk-toggleable__label {background-color: #d4ebff;}#sk-container-id-2 div.sk-serial::before {content: \"\";position: absolute;border-left: 1px solid gray;box-sizing: border-box;top: 0;bottom: 0;left: 50%;z-index: 0;}#sk-container-id-2 div.sk-serial {display: flex;flex-direction: column;align-items: center;background-color: white;padding-right: 0.2em;padding-left: 0.2em;position: relative;}#sk-container-id-2 div.sk-item {position: relative;z-index: 1;}#sk-container-id-2 div.sk-parallel {display: flex;align-items: stretch;justify-content: center;background-color: white;position: relative;}#sk-container-id-2 div.sk-item::before, #sk-container-id-2 div.sk-parallel-item::before {content: \"\";position: absolute;border-left: 1px solid gray;box-sizing: border-box;top: 0;bottom: 0;left: 50%;z-index: -1;}#sk-container-id-2 div.sk-parallel-item {display: flex;flex-direction: column;z-index: 1;position: relative;background-color: white;}#sk-container-id-2 div.sk-parallel-item:first-child::after {align-self: flex-end;width: 50%;}#sk-container-id-2 div.sk-parallel-item:last-child::after {align-self: flex-start;width: 50%;}#sk-container-id-2 div.sk-parallel-item:only-child::after {width: 0;}#sk-container-id-2 div.sk-dashed-wrapped {border: 1px dashed gray;margin: 0 0.4em 0.5em 0.4em;box-sizing: border-box;padding-bottom: 0.4em;background-color: white;}#sk-container-id-2 div.sk-label label {font-family: monospace;font-weight: bold;display: inline-block;line-height: 1.2em;}#sk-container-id-2 div.sk-label-container {text-align: center;}#sk-container-id-2 div.sk-container {/* jupyter's `normalize.less` sets `[hidden] { display: none; }` but bootstrap.min.css set `[hidden] { display: none !important; }` so we also need the `!important` here to be able to override the default hidden behavior on the sphinx rendered scikit-learn.org. See: https://github.com/scikit-learn/scikit-learn/issues/21755 */display: inline-block !important;position: relative;}#sk-container-id-2 div.sk-text-repr-fallback {display: none;}</style><div id=\"sk-container-id-2\" class=\"sk-top-container\"><div class=\"sk-text-repr-fallback\"><pre>Pipeline(steps=[(&#x27;columntransformer&#x27;,\n",
       "                 ColumnTransformer(transformers=[(&#x27;cat&#x27;, OneHotEncoder(),\n",
       "                                                  Index([], dtype=&#x27;object&#x27;)),\n",
       "                                                 (&#x27;num&#x27;, StandardScaler(),\n",
       "                                                  Index([&#x27;danceability&#x27;, &#x27;loudness&#x27;, &#x27;acousticness&#x27;, &#x27;instrumentalness&#x27;, &#x27;tempo&#x27;,\n",
       "       &#x27;duration_min&#x27;],\n",
       "      dtype=&#x27;object&#x27;))])),\n",
       "                (&#x27;randomforestclassifier&#x27;,\n",
       "                 RandomForestClassifier(n_estimators=8))])</pre><b>In a Jupyter environment, please rerun this cell to show the HTML representation or trust the notebook. <br />On GitHub, the HTML representation is unable to render, please try loading this page with nbviewer.org.</b></div><div class=\"sk-container\" hidden><div class=\"sk-item sk-dashed-wrapped\"><div class=\"sk-label-container\"><div class=\"sk-label sk-toggleable\"><input class=\"sk-toggleable__control sk-hidden--visually\" id=\"sk-estimator-id-8\" type=\"checkbox\" ><label for=\"sk-estimator-id-8\" class=\"sk-toggleable__label sk-toggleable__label-arrow\">Pipeline</label><div class=\"sk-toggleable__content\"><pre>Pipeline(steps=[(&#x27;columntransformer&#x27;,\n",
       "                 ColumnTransformer(transformers=[(&#x27;cat&#x27;, OneHotEncoder(),\n",
       "                                                  Index([], dtype=&#x27;object&#x27;)),\n",
       "                                                 (&#x27;num&#x27;, StandardScaler(),\n",
       "                                                  Index([&#x27;danceability&#x27;, &#x27;loudness&#x27;, &#x27;acousticness&#x27;, &#x27;instrumentalness&#x27;, &#x27;tempo&#x27;,\n",
       "       &#x27;duration_min&#x27;],\n",
       "      dtype=&#x27;object&#x27;))])),\n",
       "                (&#x27;randomforestclassifier&#x27;,\n",
       "                 RandomForestClassifier(n_estimators=8))])</pre></div></div></div><div class=\"sk-serial\"><div class=\"sk-item sk-dashed-wrapped\"><div class=\"sk-label-container\"><div class=\"sk-label sk-toggleable\"><input class=\"sk-toggleable__control sk-hidden--visually\" id=\"sk-estimator-id-9\" type=\"checkbox\" ><label for=\"sk-estimator-id-9\" class=\"sk-toggleable__label sk-toggleable__label-arrow\">columntransformer: ColumnTransformer</label><div class=\"sk-toggleable__content\"><pre>ColumnTransformer(transformers=[(&#x27;cat&#x27;, OneHotEncoder(),\n",
       "                                 Index([], dtype=&#x27;object&#x27;)),\n",
       "                                (&#x27;num&#x27;, StandardScaler(),\n",
       "                                 Index([&#x27;danceability&#x27;, &#x27;loudness&#x27;, &#x27;acousticness&#x27;, &#x27;instrumentalness&#x27;, &#x27;tempo&#x27;,\n",
       "       &#x27;duration_min&#x27;],\n",
       "      dtype=&#x27;object&#x27;))])</pre></div></div></div><div class=\"sk-parallel\"><div class=\"sk-parallel-item\"><div class=\"sk-item\"><div class=\"sk-label-container\"><div class=\"sk-label sk-toggleable\"><input class=\"sk-toggleable__control sk-hidden--visually\" id=\"sk-estimator-id-10\" type=\"checkbox\" ><label for=\"sk-estimator-id-10\" class=\"sk-toggleable__label sk-toggleable__label-arrow\">cat</label><div class=\"sk-toggleable__content\"><pre>Index([], dtype=&#x27;object&#x27;)</pre></div></div></div><div class=\"sk-serial\"><div class=\"sk-item\"><div class=\"sk-estimator sk-toggleable\"><input class=\"sk-toggleable__control sk-hidden--visually\" id=\"sk-estimator-id-11\" type=\"checkbox\" ><label for=\"sk-estimator-id-11\" class=\"sk-toggleable__label sk-toggleable__label-arrow\">OneHotEncoder</label><div class=\"sk-toggleable__content\"><pre>OneHotEncoder()</pre></div></div></div></div></div></div><div class=\"sk-parallel-item\"><div class=\"sk-item\"><div class=\"sk-label-container\"><div class=\"sk-label sk-toggleable\"><input class=\"sk-toggleable__control sk-hidden--visually\" id=\"sk-estimator-id-12\" type=\"checkbox\" ><label for=\"sk-estimator-id-12\" class=\"sk-toggleable__label sk-toggleable__label-arrow\">num</label><div class=\"sk-toggleable__content\"><pre>Index([&#x27;danceability&#x27;, &#x27;loudness&#x27;, &#x27;acousticness&#x27;, &#x27;instrumentalness&#x27;, &#x27;tempo&#x27;,\n",
       "       &#x27;duration_min&#x27;],\n",
       "      dtype=&#x27;object&#x27;)</pre></div></div></div><div class=\"sk-serial\"><div class=\"sk-item\"><div class=\"sk-estimator sk-toggleable\"><input class=\"sk-toggleable__control sk-hidden--visually\" id=\"sk-estimator-id-13\" type=\"checkbox\" ><label for=\"sk-estimator-id-13\" class=\"sk-toggleable__label sk-toggleable__label-arrow\">StandardScaler</label><div class=\"sk-toggleable__content\"><pre>StandardScaler()</pre></div></div></div></div></div></div></div></div><div class=\"sk-item\"><div class=\"sk-estimator sk-toggleable\"><input class=\"sk-toggleable__control sk-hidden--visually\" id=\"sk-estimator-id-14\" type=\"checkbox\" ><label for=\"sk-estimator-id-14\" class=\"sk-toggleable__label sk-toggleable__label-arrow\">RandomForestClassifier</label><div class=\"sk-toggleable__content\"><pre>RandomForestClassifier(n_estimators=8)</pre></div></div></div></div></div></div></div>"
      ],
      "text/plain": [
       "Pipeline(steps=[('columntransformer',\n",
       "                 ColumnTransformer(transformers=[('cat', OneHotEncoder(),\n",
       "                                                  Index([], dtype='object')),\n",
       "                                                 ('num', StandardScaler(),\n",
       "                                                  Index(['danceability', 'loudness', 'acousticness', 'instrumentalness', 'tempo',\n",
       "       'duration_min'],\n",
       "      dtype='object'))])),\n",
       "                ('randomforestclassifier',\n",
       "                 RandomForestClassifier(n_estimators=8))])"
      ]
     },
     "execution_count": 26,
     "metadata": {},
     "output_type": "execute_result"
    }
   ],
   "source": [
    "# Defining Rf_8 pipeline\n",
    "\n",
    "Rf_8= make_pipeline(col_transform, Rf_8)\n",
    "Rf_8"
   ]
  },
  {
   "cell_type": "code",
   "execution_count": 27,
   "id": "4f6635d7-e818-4df6-b7aa-b540e3578d5d",
   "metadata": {},
   "outputs": [
    {
     "data": {
      "text/html": [
       "<style>#sk-container-id-3 {color: black;background-color: white;}#sk-container-id-3 pre{padding: 0;}#sk-container-id-3 div.sk-toggleable {background-color: white;}#sk-container-id-3 label.sk-toggleable__label {cursor: pointer;display: block;width: 100%;margin-bottom: 0;padding: 0.3em;box-sizing: border-box;text-align: center;}#sk-container-id-3 label.sk-toggleable__label-arrow:before {content: \"▸\";float: left;margin-right: 0.25em;color: #696969;}#sk-container-id-3 label.sk-toggleable__label-arrow:hover:before {color: black;}#sk-container-id-3 div.sk-estimator:hover label.sk-toggleable__label-arrow:before {color: black;}#sk-container-id-3 div.sk-toggleable__content {max-height: 0;max-width: 0;overflow: hidden;text-align: left;background-color: #f0f8ff;}#sk-container-id-3 div.sk-toggleable__content pre {margin: 0.2em;color: black;border-radius: 0.25em;background-color: #f0f8ff;}#sk-container-id-3 input.sk-toggleable__control:checked~div.sk-toggleable__content {max-height: 200px;max-width: 100%;overflow: auto;}#sk-container-id-3 input.sk-toggleable__control:checked~label.sk-toggleable__label-arrow:before {content: \"▾\";}#sk-container-id-3 div.sk-estimator input.sk-toggleable__control:checked~label.sk-toggleable__label {background-color: #d4ebff;}#sk-container-id-3 div.sk-label input.sk-toggleable__control:checked~label.sk-toggleable__label {background-color: #d4ebff;}#sk-container-id-3 input.sk-hidden--visually {border: 0;clip: rect(1px 1px 1px 1px);clip: rect(1px, 1px, 1px, 1px);height: 1px;margin: -1px;overflow: hidden;padding: 0;position: absolute;width: 1px;}#sk-container-id-3 div.sk-estimator {font-family: monospace;background-color: #f0f8ff;border: 1px dotted black;border-radius: 0.25em;box-sizing: border-box;margin-bottom: 0.5em;}#sk-container-id-3 div.sk-estimator:hover {background-color: #d4ebff;}#sk-container-id-3 div.sk-parallel-item::after {content: \"\";width: 100%;border-bottom: 1px solid gray;flex-grow: 1;}#sk-container-id-3 div.sk-label:hover label.sk-toggleable__label {background-color: #d4ebff;}#sk-container-id-3 div.sk-serial::before {content: \"\";position: absolute;border-left: 1px solid gray;box-sizing: border-box;top: 0;bottom: 0;left: 50%;z-index: 0;}#sk-container-id-3 div.sk-serial {display: flex;flex-direction: column;align-items: center;background-color: white;padding-right: 0.2em;padding-left: 0.2em;position: relative;}#sk-container-id-3 div.sk-item {position: relative;z-index: 1;}#sk-container-id-3 div.sk-parallel {display: flex;align-items: stretch;justify-content: center;background-color: white;position: relative;}#sk-container-id-3 div.sk-item::before, #sk-container-id-3 div.sk-parallel-item::before {content: \"\";position: absolute;border-left: 1px solid gray;box-sizing: border-box;top: 0;bottom: 0;left: 50%;z-index: -1;}#sk-container-id-3 div.sk-parallel-item {display: flex;flex-direction: column;z-index: 1;position: relative;background-color: white;}#sk-container-id-3 div.sk-parallel-item:first-child::after {align-self: flex-end;width: 50%;}#sk-container-id-3 div.sk-parallel-item:last-child::after {align-self: flex-start;width: 50%;}#sk-container-id-3 div.sk-parallel-item:only-child::after {width: 0;}#sk-container-id-3 div.sk-dashed-wrapped {border: 1px dashed gray;margin: 0 0.4em 0.5em 0.4em;box-sizing: border-box;padding-bottom: 0.4em;background-color: white;}#sk-container-id-3 div.sk-label label {font-family: monospace;font-weight: bold;display: inline-block;line-height: 1.2em;}#sk-container-id-3 div.sk-label-container {text-align: center;}#sk-container-id-3 div.sk-container {/* jupyter's `normalize.less` sets `[hidden] { display: none; }` but bootstrap.min.css set `[hidden] { display: none !important; }` so we also need the `!important` here to be able to override the default hidden behavior on the sphinx rendered scikit-learn.org. See: https://github.com/scikit-learn/scikit-learn/issues/21755 */display: inline-block !important;position: relative;}#sk-container-id-3 div.sk-text-repr-fallback {display: none;}</style><div id=\"sk-container-id-3\" class=\"sk-top-container\"><div class=\"sk-text-repr-fallback\"><pre>Pipeline(steps=[(&#x27;columntransformer&#x27;,\n",
       "                 ColumnTransformer(transformers=[(&#x27;cat&#x27;, OneHotEncoder(),\n",
       "                                                  Index([], dtype=&#x27;object&#x27;)),\n",
       "                                                 (&#x27;num&#x27;, StandardScaler(),\n",
       "                                                  Index([&#x27;danceability&#x27;, &#x27;loudness&#x27;, &#x27;acousticness&#x27;, &#x27;instrumentalness&#x27;, &#x27;tempo&#x27;,\n",
       "       &#x27;duration_min&#x27;],\n",
       "      dtype=&#x27;object&#x27;))])),\n",
       "                (&#x27;randomforestclassifier&#x27;,\n",
       "                 RandomForestClassifier(n_estimators=8))])</pre><b>In a Jupyter environment, please rerun this cell to show the HTML representation or trust the notebook. <br />On GitHub, the HTML representation is unable to render, please try loading this page with nbviewer.org.</b></div><div class=\"sk-container\" hidden><div class=\"sk-item sk-dashed-wrapped\"><div class=\"sk-label-container\"><div class=\"sk-label sk-toggleable\"><input class=\"sk-toggleable__control sk-hidden--visually\" id=\"sk-estimator-id-15\" type=\"checkbox\" ><label for=\"sk-estimator-id-15\" class=\"sk-toggleable__label sk-toggleable__label-arrow\">Pipeline</label><div class=\"sk-toggleable__content\"><pre>Pipeline(steps=[(&#x27;columntransformer&#x27;,\n",
       "                 ColumnTransformer(transformers=[(&#x27;cat&#x27;, OneHotEncoder(),\n",
       "                                                  Index([], dtype=&#x27;object&#x27;)),\n",
       "                                                 (&#x27;num&#x27;, StandardScaler(),\n",
       "                                                  Index([&#x27;danceability&#x27;, &#x27;loudness&#x27;, &#x27;acousticness&#x27;, &#x27;instrumentalness&#x27;, &#x27;tempo&#x27;,\n",
       "       &#x27;duration_min&#x27;],\n",
       "      dtype=&#x27;object&#x27;))])),\n",
       "                (&#x27;randomforestclassifier&#x27;,\n",
       "                 RandomForestClassifier(n_estimators=8))])</pre></div></div></div><div class=\"sk-serial\"><div class=\"sk-item sk-dashed-wrapped\"><div class=\"sk-label-container\"><div class=\"sk-label sk-toggleable\"><input class=\"sk-toggleable__control sk-hidden--visually\" id=\"sk-estimator-id-16\" type=\"checkbox\" ><label for=\"sk-estimator-id-16\" class=\"sk-toggleable__label sk-toggleable__label-arrow\">columntransformer: ColumnTransformer</label><div class=\"sk-toggleable__content\"><pre>ColumnTransformer(transformers=[(&#x27;cat&#x27;, OneHotEncoder(),\n",
       "                                 Index([], dtype=&#x27;object&#x27;)),\n",
       "                                (&#x27;num&#x27;, StandardScaler(),\n",
       "                                 Index([&#x27;danceability&#x27;, &#x27;loudness&#x27;, &#x27;acousticness&#x27;, &#x27;instrumentalness&#x27;, &#x27;tempo&#x27;,\n",
       "       &#x27;duration_min&#x27;],\n",
       "      dtype=&#x27;object&#x27;))])</pre></div></div></div><div class=\"sk-parallel\"><div class=\"sk-parallel-item\"><div class=\"sk-item\"><div class=\"sk-label-container\"><div class=\"sk-label sk-toggleable\"><input class=\"sk-toggleable__control sk-hidden--visually\" id=\"sk-estimator-id-17\" type=\"checkbox\" ><label for=\"sk-estimator-id-17\" class=\"sk-toggleable__label sk-toggleable__label-arrow\">cat</label><div class=\"sk-toggleable__content\"><pre>Index([], dtype=&#x27;object&#x27;)</pre></div></div></div><div class=\"sk-serial\"><div class=\"sk-item\"><div class=\"sk-estimator sk-toggleable\"><input class=\"sk-toggleable__control sk-hidden--visually\" id=\"sk-estimator-id-18\" type=\"checkbox\" ><label for=\"sk-estimator-id-18\" class=\"sk-toggleable__label sk-toggleable__label-arrow\">OneHotEncoder</label><div class=\"sk-toggleable__content\"><pre>OneHotEncoder()</pre></div></div></div></div></div></div><div class=\"sk-parallel-item\"><div class=\"sk-item\"><div class=\"sk-label-container\"><div class=\"sk-label sk-toggleable\"><input class=\"sk-toggleable__control sk-hidden--visually\" id=\"sk-estimator-id-19\" type=\"checkbox\" ><label for=\"sk-estimator-id-19\" class=\"sk-toggleable__label sk-toggleable__label-arrow\">num</label><div class=\"sk-toggleable__content\"><pre>Index([&#x27;danceability&#x27;, &#x27;loudness&#x27;, &#x27;acousticness&#x27;, &#x27;instrumentalness&#x27;, &#x27;tempo&#x27;,\n",
       "       &#x27;duration_min&#x27;],\n",
       "      dtype=&#x27;object&#x27;)</pre></div></div></div><div class=\"sk-serial\"><div class=\"sk-item\"><div class=\"sk-estimator sk-toggleable\"><input class=\"sk-toggleable__control sk-hidden--visually\" id=\"sk-estimator-id-20\" type=\"checkbox\" ><label for=\"sk-estimator-id-20\" class=\"sk-toggleable__label sk-toggleable__label-arrow\">StandardScaler</label><div class=\"sk-toggleable__content\"><pre>StandardScaler()</pre></div></div></div></div></div></div></div></div><div class=\"sk-item\"><div class=\"sk-estimator sk-toggleable\"><input class=\"sk-toggleable__control sk-hidden--visually\" id=\"sk-estimator-id-21\" type=\"checkbox\" ><label for=\"sk-estimator-id-21\" class=\"sk-toggleable__label sk-toggleable__label-arrow\">RandomForestClassifier</label><div class=\"sk-toggleable__content\"><pre>RandomForestClassifier(n_estimators=8)</pre></div></div></div></div></div></div></div>"
      ],
      "text/plain": [
       "Pipeline(steps=[('columntransformer',\n",
       "                 ColumnTransformer(transformers=[('cat', OneHotEncoder(),\n",
       "                                                  Index([], dtype='object')),\n",
       "                                                 ('num', StandardScaler(),\n",
       "                                                  Index(['danceability', 'loudness', 'acousticness', 'instrumentalness', 'tempo',\n",
       "       'duration_min'],\n",
       "      dtype='object'))])),\n",
       "                ('randomforestclassifier',\n",
       "                 RandomForestClassifier(n_estimators=8))])"
      ]
     },
     "execution_count": 27,
     "metadata": {},
     "output_type": "execute_result"
    }
   ],
   "source": [
    "Rf_8.fit(X_train,y_train)"
   ]
  },
  {
   "cell_type": "code",
   "execution_count": 28,
   "id": "796ffe18-0f06-4dc5-af31-4b5ae0bfe294",
   "metadata": {},
   "outputs": [],
   "source": [
    "y_preds = Rf_8.predict(X_test)"
   ]
  },
  {
   "cell_type": "code",
   "execution_count": 29,
   "id": "18ad040d-5525-464a-91cf-8640688a3a2d",
   "metadata": {},
   "outputs": [
    {
     "name": "stdout",
     "output_type": "stream",
     "text": [
      "MAE: 8.673 (12.388)\n"
     ]
    }
   ],
   "source": [
    "# convert MAE scores to positive values\n",
    "\n",
    "score = np.abs(y_preds)\n",
    "\n",
    "# summarize the model performance\n",
    "\n",
    "print('MAE: %.3f (%.3f)' % (np.mean(score), np.std(score)))"
   ]
  },
  {
   "cell_type": "code",
   "execution_count": 30,
   "id": "25d36b32-7a83-47d5-8d57-5c9734de1d48",
   "metadata": {},
   "outputs": [],
   "source": [
    "y_tr_preds = Rf_8.predict(X_train)\n",
    "y_te_preds = Rf_8.predict(X_test)"
   ]
  },
  {
   "cell_type": "code",
   "execution_count": 31,
   "id": "c8778759-bcad-4fa8-8519-0c6444425c1e",
   "metadata": {},
   "outputs": [
    {
     "data": {
      "text/plain": [
       "(0.30658306345084, 15.722360756153838)"
      ]
     },
     "execution_count": 31,
     "metadata": {},
     "output_type": "execute_result"
    }
   ],
   "source": [
    "mean_absolute_error(y_train, y_tr_preds), mean_absolute_error(y_test, y_te_preds)"
   ]
  },
  {
   "cell_type": "code",
   "execution_count": 32,
   "id": "05012e3d-14f5-4d7d-836d-beca46cdf7fd",
   "metadata": {},
   "outputs": [
    {
     "data": {
      "text/plain": [
       "(0.9667469618354008, -0.764085630827751)"
      ]
     },
     "execution_count": 32,
     "metadata": {},
     "output_type": "execute_result"
    }
   ],
   "source": [
    "r2_score(y_train, y_tr_preds), r2_score(y_test, y_te_preds)"
   ]
  },
  {
   "cell_type": "code",
   "execution_count": 33,
   "id": "42cb164f-f952-46a3-a411-52336bfa4a94",
   "metadata": {},
   "outputs": [],
   "source": [
    "# Defining a RandomForest model with 16 n_estimators\n",
    "\n",
    "Rf_16 = RandomForestClassifier(n_estimators = 16)"
   ]
  },
  {
   "cell_type": "code",
   "execution_count": 34,
   "id": "f6d682ed-259b-425e-bec7-b85186da56f3",
   "metadata": {},
   "outputs": [],
   "source": [
    "# Defining Rf_16 pipeline\n",
    "\n",
    "Rf_16= make_pipeline(col_transform, Rf_16)"
   ]
  },
  {
   "cell_type": "code",
   "execution_count": 35,
   "id": "0bac8e2d-c01a-4f9a-b477-0d941a381c91",
   "metadata": {},
   "outputs": [
    {
     "data": {
      "text/html": [
       "<style>#sk-container-id-4 {color: black;background-color: white;}#sk-container-id-4 pre{padding: 0;}#sk-container-id-4 div.sk-toggleable {background-color: white;}#sk-container-id-4 label.sk-toggleable__label {cursor: pointer;display: block;width: 100%;margin-bottom: 0;padding: 0.3em;box-sizing: border-box;text-align: center;}#sk-container-id-4 label.sk-toggleable__label-arrow:before {content: \"▸\";float: left;margin-right: 0.25em;color: #696969;}#sk-container-id-4 label.sk-toggleable__label-arrow:hover:before {color: black;}#sk-container-id-4 div.sk-estimator:hover label.sk-toggleable__label-arrow:before {color: black;}#sk-container-id-4 div.sk-toggleable__content {max-height: 0;max-width: 0;overflow: hidden;text-align: left;background-color: #f0f8ff;}#sk-container-id-4 div.sk-toggleable__content pre {margin: 0.2em;color: black;border-radius: 0.25em;background-color: #f0f8ff;}#sk-container-id-4 input.sk-toggleable__control:checked~div.sk-toggleable__content {max-height: 200px;max-width: 100%;overflow: auto;}#sk-container-id-4 input.sk-toggleable__control:checked~label.sk-toggleable__label-arrow:before {content: \"▾\";}#sk-container-id-4 div.sk-estimator input.sk-toggleable__control:checked~label.sk-toggleable__label {background-color: #d4ebff;}#sk-container-id-4 div.sk-label input.sk-toggleable__control:checked~label.sk-toggleable__label {background-color: #d4ebff;}#sk-container-id-4 input.sk-hidden--visually {border: 0;clip: rect(1px 1px 1px 1px);clip: rect(1px, 1px, 1px, 1px);height: 1px;margin: -1px;overflow: hidden;padding: 0;position: absolute;width: 1px;}#sk-container-id-4 div.sk-estimator {font-family: monospace;background-color: #f0f8ff;border: 1px dotted black;border-radius: 0.25em;box-sizing: border-box;margin-bottom: 0.5em;}#sk-container-id-4 div.sk-estimator:hover {background-color: #d4ebff;}#sk-container-id-4 div.sk-parallel-item::after {content: \"\";width: 100%;border-bottom: 1px solid gray;flex-grow: 1;}#sk-container-id-4 div.sk-label:hover label.sk-toggleable__label {background-color: #d4ebff;}#sk-container-id-4 div.sk-serial::before {content: \"\";position: absolute;border-left: 1px solid gray;box-sizing: border-box;top: 0;bottom: 0;left: 50%;z-index: 0;}#sk-container-id-4 div.sk-serial {display: flex;flex-direction: column;align-items: center;background-color: white;padding-right: 0.2em;padding-left: 0.2em;position: relative;}#sk-container-id-4 div.sk-item {position: relative;z-index: 1;}#sk-container-id-4 div.sk-parallel {display: flex;align-items: stretch;justify-content: center;background-color: white;position: relative;}#sk-container-id-4 div.sk-item::before, #sk-container-id-4 div.sk-parallel-item::before {content: \"\";position: absolute;border-left: 1px solid gray;box-sizing: border-box;top: 0;bottom: 0;left: 50%;z-index: -1;}#sk-container-id-4 div.sk-parallel-item {display: flex;flex-direction: column;z-index: 1;position: relative;background-color: white;}#sk-container-id-4 div.sk-parallel-item:first-child::after {align-self: flex-end;width: 50%;}#sk-container-id-4 div.sk-parallel-item:last-child::after {align-self: flex-start;width: 50%;}#sk-container-id-4 div.sk-parallel-item:only-child::after {width: 0;}#sk-container-id-4 div.sk-dashed-wrapped {border: 1px dashed gray;margin: 0 0.4em 0.5em 0.4em;box-sizing: border-box;padding-bottom: 0.4em;background-color: white;}#sk-container-id-4 div.sk-label label {font-family: monospace;font-weight: bold;display: inline-block;line-height: 1.2em;}#sk-container-id-4 div.sk-label-container {text-align: center;}#sk-container-id-4 div.sk-container {/* jupyter's `normalize.less` sets `[hidden] { display: none; }` but bootstrap.min.css set `[hidden] { display: none !important; }` so we also need the `!important` here to be able to override the default hidden behavior on the sphinx rendered scikit-learn.org. See: https://github.com/scikit-learn/scikit-learn/issues/21755 */display: inline-block !important;position: relative;}#sk-container-id-4 div.sk-text-repr-fallback {display: none;}</style><div id=\"sk-container-id-4\" class=\"sk-top-container\"><div class=\"sk-text-repr-fallback\"><pre>Pipeline(steps=[(&#x27;columntransformer&#x27;,\n",
       "                 ColumnTransformer(transformers=[(&#x27;cat&#x27;, OneHotEncoder(),\n",
       "                                                  Index([], dtype=&#x27;object&#x27;)),\n",
       "                                                 (&#x27;num&#x27;, StandardScaler(),\n",
       "                                                  Index([&#x27;danceability&#x27;, &#x27;loudness&#x27;, &#x27;acousticness&#x27;, &#x27;instrumentalness&#x27;, &#x27;tempo&#x27;,\n",
       "       &#x27;duration_min&#x27;],\n",
       "      dtype=&#x27;object&#x27;))])),\n",
       "                (&#x27;randomforestclassifier&#x27;,\n",
       "                 RandomForestClassifier(n_estimators=16))])</pre><b>In a Jupyter environment, please rerun this cell to show the HTML representation or trust the notebook. <br />On GitHub, the HTML representation is unable to render, please try loading this page with nbviewer.org.</b></div><div class=\"sk-container\" hidden><div class=\"sk-item sk-dashed-wrapped\"><div class=\"sk-label-container\"><div class=\"sk-label sk-toggleable\"><input class=\"sk-toggleable__control sk-hidden--visually\" id=\"sk-estimator-id-22\" type=\"checkbox\" ><label for=\"sk-estimator-id-22\" class=\"sk-toggleable__label sk-toggleable__label-arrow\">Pipeline</label><div class=\"sk-toggleable__content\"><pre>Pipeline(steps=[(&#x27;columntransformer&#x27;,\n",
       "                 ColumnTransformer(transformers=[(&#x27;cat&#x27;, OneHotEncoder(),\n",
       "                                                  Index([], dtype=&#x27;object&#x27;)),\n",
       "                                                 (&#x27;num&#x27;, StandardScaler(),\n",
       "                                                  Index([&#x27;danceability&#x27;, &#x27;loudness&#x27;, &#x27;acousticness&#x27;, &#x27;instrumentalness&#x27;, &#x27;tempo&#x27;,\n",
       "       &#x27;duration_min&#x27;],\n",
       "      dtype=&#x27;object&#x27;))])),\n",
       "                (&#x27;randomforestclassifier&#x27;,\n",
       "                 RandomForestClassifier(n_estimators=16))])</pre></div></div></div><div class=\"sk-serial\"><div class=\"sk-item sk-dashed-wrapped\"><div class=\"sk-label-container\"><div class=\"sk-label sk-toggleable\"><input class=\"sk-toggleable__control sk-hidden--visually\" id=\"sk-estimator-id-23\" type=\"checkbox\" ><label for=\"sk-estimator-id-23\" class=\"sk-toggleable__label sk-toggleable__label-arrow\">columntransformer: ColumnTransformer</label><div class=\"sk-toggleable__content\"><pre>ColumnTransformer(transformers=[(&#x27;cat&#x27;, OneHotEncoder(),\n",
       "                                 Index([], dtype=&#x27;object&#x27;)),\n",
       "                                (&#x27;num&#x27;, StandardScaler(),\n",
       "                                 Index([&#x27;danceability&#x27;, &#x27;loudness&#x27;, &#x27;acousticness&#x27;, &#x27;instrumentalness&#x27;, &#x27;tempo&#x27;,\n",
       "       &#x27;duration_min&#x27;],\n",
       "      dtype=&#x27;object&#x27;))])</pre></div></div></div><div class=\"sk-parallel\"><div class=\"sk-parallel-item\"><div class=\"sk-item\"><div class=\"sk-label-container\"><div class=\"sk-label sk-toggleable\"><input class=\"sk-toggleable__control sk-hidden--visually\" id=\"sk-estimator-id-24\" type=\"checkbox\" ><label for=\"sk-estimator-id-24\" class=\"sk-toggleable__label sk-toggleable__label-arrow\">cat</label><div class=\"sk-toggleable__content\"><pre>Index([], dtype=&#x27;object&#x27;)</pre></div></div></div><div class=\"sk-serial\"><div class=\"sk-item\"><div class=\"sk-estimator sk-toggleable\"><input class=\"sk-toggleable__control sk-hidden--visually\" id=\"sk-estimator-id-25\" type=\"checkbox\" ><label for=\"sk-estimator-id-25\" class=\"sk-toggleable__label sk-toggleable__label-arrow\">OneHotEncoder</label><div class=\"sk-toggleable__content\"><pre>OneHotEncoder()</pre></div></div></div></div></div></div><div class=\"sk-parallel-item\"><div class=\"sk-item\"><div class=\"sk-label-container\"><div class=\"sk-label sk-toggleable\"><input class=\"sk-toggleable__control sk-hidden--visually\" id=\"sk-estimator-id-26\" type=\"checkbox\" ><label for=\"sk-estimator-id-26\" class=\"sk-toggleable__label sk-toggleable__label-arrow\">num</label><div class=\"sk-toggleable__content\"><pre>Index([&#x27;danceability&#x27;, &#x27;loudness&#x27;, &#x27;acousticness&#x27;, &#x27;instrumentalness&#x27;, &#x27;tempo&#x27;,\n",
       "       &#x27;duration_min&#x27;],\n",
       "      dtype=&#x27;object&#x27;)</pre></div></div></div><div class=\"sk-serial\"><div class=\"sk-item\"><div class=\"sk-estimator sk-toggleable\"><input class=\"sk-toggleable__control sk-hidden--visually\" id=\"sk-estimator-id-27\" type=\"checkbox\" ><label for=\"sk-estimator-id-27\" class=\"sk-toggleable__label sk-toggleable__label-arrow\">StandardScaler</label><div class=\"sk-toggleable__content\"><pre>StandardScaler()</pre></div></div></div></div></div></div></div></div><div class=\"sk-item\"><div class=\"sk-estimator sk-toggleable\"><input class=\"sk-toggleable__control sk-hidden--visually\" id=\"sk-estimator-id-28\" type=\"checkbox\" ><label for=\"sk-estimator-id-28\" class=\"sk-toggleable__label sk-toggleable__label-arrow\">RandomForestClassifier</label><div class=\"sk-toggleable__content\"><pre>RandomForestClassifier(n_estimators=16)</pre></div></div></div></div></div></div></div>"
      ],
      "text/plain": [
       "Pipeline(steps=[('columntransformer',\n",
       "                 ColumnTransformer(transformers=[('cat', OneHotEncoder(),\n",
       "                                                  Index([], dtype='object')),\n",
       "                                                 ('num', StandardScaler(),\n",
       "                                                  Index(['danceability', 'loudness', 'acousticness', 'instrumentalness', 'tempo',\n",
       "       'duration_min'],\n",
       "      dtype='object'))])),\n",
       "                ('randomforestclassifier',\n",
       "                 RandomForestClassifier(n_estimators=16))])"
      ]
     },
     "execution_count": 35,
     "metadata": {},
     "output_type": "execute_result"
    }
   ],
   "source": [
    "Rf_16.fit(X_train,y_train)"
   ]
  },
  {
   "cell_type": "code",
   "execution_count": 36,
   "id": "f5ff1102-0ed2-4963-bdda-a14ba8a5aa3d",
   "metadata": {},
   "outputs": [],
   "source": [
    "y_predi = Rf_16.predict(X_test)"
   ]
  },
  {
   "cell_type": "code",
   "execution_count": 37,
   "id": "178de8bf-8865-4d1c-b81b-8afffc4a6fe9",
   "metadata": {},
   "outputs": [
    {
     "name": "stdout",
     "output_type": "stream",
     "text": [
      "MAE: 9.048 (12.493)\n"
     ]
    }
   ],
   "source": [
    "# convert MAE scores to positive values\n",
    "\n",
    "score = np.abs(y_predi)\n",
    "\n",
    "# summarize the model performance\n",
    "\n",
    "print('MAE: %.3f (%.3f)' % (np.mean(score), np.std(score)))"
   ]
  },
  {
   "cell_type": "code",
   "execution_count": 38,
   "id": "ca921c46-8755-4669-9e7b-dcb6ee072ee8",
   "metadata": {},
   "outputs": [],
   "source": [
    "y_tr_predi = Rf_16.predict(X_train)\n",
    "y_te_predi = Rf_16.predict(X_test)"
   ]
  },
  {
   "cell_type": "code",
   "execution_count": 39,
   "id": "e585f7fc-fec7-4822-9758-94e189cf3e41",
   "metadata": {},
   "outputs": [
    {
     "data": {
      "text/plain": [
       "(0.0624517861679905, 15.319623647569678)"
      ]
     },
     "execution_count": 39,
     "metadata": {},
     "output_type": "execute_result"
    }
   ],
   "source": [
    "mean_absolute_error(y_train, y_tr_predi), mean_absolute_error(y_test, y_te_predi)"
   ]
  },
  {
   "cell_type": "code",
   "execution_count": 40,
   "id": "47e9991e-ade4-4c62-8858-bf218ef3bdb6",
   "metadata": {},
   "outputs": [
    {
     "data": {
      "text/plain": [
       "(0.993463075439188, -0.6874762410338038)"
      ]
     },
     "execution_count": 40,
     "metadata": {},
     "output_type": "execute_result"
    }
   ],
   "source": [
    "r2_score(y_train, y_tr_predi), r2_score(y_test, y_te_predi)"
   ]
  },
  {
   "cell_type": "markdown",
   "id": "e76790fe-f608-4709-8d80-217afdb173e8",
   "metadata": {},
   "source": [
    "1. Comparing the two models, Ridge Regression(Linear Regression) model performs better than the RandomForest models in terms of MAE scores. Although cross validation was not used to fit RF models, the MAE of the Rf_8 is very high. Increasing the number of n_estimators to 16 made the MAE even higher. High MAE scores is an indication that the models predictions do not align with actual data.\n",
    "2. The MAE score of the training data was lower than the score in the test data in the RR model which shows that the model is functioning well in predicting with lower error. Both Rf models show MAE scores in the training data to be very low but the scores in the test data is very high which shows that the model is not performing well. \n",
    "3. In terms of R2 values, the RR model shows no overfitting of training data. Both RF models  show very poor R2 scores in test data which is another signal that this model is not performing well.\n",
    "   "
   ]
  }
 ],
 "metadata": {
  "kernelspec": {
   "display_name": "Python 3 (ipykernel)",
   "language": "python",
   "name": "python3"
  },
  "language_info": {
   "codemirror_mode": {
    "name": "ipython",
    "version": 3
   },
   "file_extension": ".py",
   "mimetype": "text/x-python",
   "name": "python",
   "nbconvert_exporter": "python",
   "pygments_lexer": "ipython3",
   "version": "3.11.5"
  }
 },
 "nbformat": 4,
 "nbformat_minor": 5
}
