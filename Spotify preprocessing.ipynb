{
 "cells": [
  {
   "cell_type": "markdown",
   "id": "ebd45f42-92ea-489b-bedc-2b0b75795222",
   "metadata": {},
   "source": [
    "Spotify preprocessing"
   ]
  },
  {
   "cell_type": "code",
   "execution_count": 1,
   "id": "54e73533-5618-470f-b76b-fd6207991063",
   "metadata": {},
   "outputs": [],
   "source": [
    "# Importing libraries\n",
    "\n",
    "import pandas as pd\n",
    "import numpy as np\n",
    "import matplotlib.pyplot as plt\n",
    "import seaborn as sns\n",
    "import pickle\n",
    "from sklearn.linear_model import Ridge\n",
    "from sklearn.ensemble import RandomForestClassifier\n",
    "from sklearn.compose import ColumnTransformer\n",
    "from sklearn.model_selection import train_test_split, cross_validate\n",
    "from sklearn.preprocessing import StandardScaler\n",
    "from sklearn.preprocessing import OneHotEncoder\n",
    "from sklearn.linear_model import LinearRegression\n",
    "from sklearn.ensemble import RandomForestRegressor\n",
    "from sklearn.metrics import r2_score, mean_squared_error, mean_absolute_error\n",
    "from sklearn.pipeline import make_pipeline\n",
    "\n",
    "\n"
   ]
  },
  {
   "cell_type": "code",
   "execution_count": 2,
   "id": "7e33cf9b-5dd0-47cf-9533-d13d28daaa5d",
   "metadata": {},
   "outputs": [
    {
     "data": {
      "text/html": [
       "<div>\n",
       "<style scoped>\n",
       "    .dataframe tbody tr th:only-of-type {\n",
       "        vertical-align: middle;\n",
       "    }\n",
       "\n",
       "    .dataframe tbody tr th {\n",
       "        vertical-align: top;\n",
       "    }\n",
       "\n",
       "    .dataframe thead th {\n",
       "        text-align: right;\n",
       "    }\n",
       "</style>\n",
       "<table border=\"1\" class=\"dataframe\">\n",
       "  <thead>\n",
       "    <tr style=\"text-align: right;\">\n",
       "      <th></th>\n",
       "      <th>Unnamed: 0.1</th>\n",
       "      <th>Unnamed: 0</th>\n",
       "      <th>genre</th>\n",
       "      <th>year</th>\n",
       "      <th>track_name</th>\n",
       "      <th>popularity</th>\n",
       "      <th>danceability</th>\n",
       "      <th>loudness</th>\n",
       "      <th>acousticness</th>\n",
       "      <th>instrumentalness</th>\n",
       "      <th>liveness</th>\n",
       "      <th>tempo</th>\n",
       "      <th>duration_ms</th>\n",
       "      <th>GDP_year</th>\n",
       "      <th>GDP</th>\n",
       "      <th>duration_min</th>\n",
       "    </tr>\n",
       "  </thead>\n",
       "  <tbody>\n",
       "    <tr>\n",
       "      <th>0</th>\n",
       "      <td>0</td>\n",
       "      <td>0</td>\n",
       "      <td>acoustic</td>\n",
       "      <td>2000</td>\n",
       "      <td>Easy Tonight</td>\n",
       "      <td>37</td>\n",
       "      <td>0.470</td>\n",
       "      <td>-8.018</td>\n",
       "      <td>0.259</td>\n",
       "      <td>0.000000</td>\n",
       "      <td>0.2040</td>\n",
       "      <td>84.843</td>\n",
       "      <td>246600</td>\n",
       "      <td>2000.0</td>\n",
       "      <td>1.025230e+13</td>\n",
       "      <td>4.110000</td>\n",
       "    </tr>\n",
       "    <tr>\n",
       "      <th>1</th>\n",
       "      <td>1</td>\n",
       "      <td>1</td>\n",
       "      <td>opera</td>\n",
       "      <td>2000</td>\n",
       "      <td>Blumenlieder, Op. 500: No. 7, Herbstzeitlosen</td>\n",
       "      <td>0</td>\n",
       "      <td>0.258</td>\n",
       "      <td>-29.012</td>\n",
       "      <td>0.991</td>\n",
       "      <td>0.001190</td>\n",
       "      <td>0.0790</td>\n",
       "      <td>89.835</td>\n",
       "      <td>157920</td>\n",
       "      <td>2001.0</td>\n",
       "      <td>1.058180e+13</td>\n",
       "      <td>2.632000</td>\n",
       "    </tr>\n",
       "    <tr>\n",
       "      <th>2</th>\n",
       "      <td>2</td>\n",
       "      <td>2</td>\n",
       "      <td>opera</td>\n",
       "      <td>2000</td>\n",
       "      <td>Blumenlieder, Op. 500: No. 15, Feuernelken</td>\n",
       "      <td>0</td>\n",
       "      <td>0.432</td>\n",
       "      <td>-26.235</td>\n",
       "      <td>0.989</td>\n",
       "      <td>0.002200</td>\n",
       "      <td>0.0618</td>\n",
       "      <td>136.726</td>\n",
       "      <td>193187</td>\n",
       "      <td>2002.0</td>\n",
       "      <td>1.093640e+13</td>\n",
       "      <td>3.219783</td>\n",
       "    </tr>\n",
       "    <tr>\n",
       "      <th>3</th>\n",
       "      <td>3</td>\n",
       "      <td>3</td>\n",
       "      <td>opera</td>\n",
       "      <td>2000</td>\n",
       "      <td>Die Gräfin Mariza: Einmal möchte ich wieder ta...</td>\n",
       "      <td>0</td>\n",
       "      <td>0.327</td>\n",
       "      <td>-14.306</td>\n",
       "      <td>0.963</td>\n",
       "      <td>0.000832</td>\n",
       "      <td>0.0888</td>\n",
       "      <td>97.870</td>\n",
       "      <td>208040</td>\n",
       "      <td>2003.0</td>\n",
       "      <td>1.145820e+13</td>\n",
       "      <td>3.467333</td>\n",
       "    </tr>\n",
       "    <tr>\n",
       "      <th>4</th>\n",
       "      <td>4</td>\n",
       "      <td>4</td>\n",
       "      <td>opera</td>\n",
       "      <td>2000</td>\n",
       "      <td>Blumenlieder, Op. 500: No. 12, Anemonen</td>\n",
       "      <td>0</td>\n",
       "      <td>0.385</td>\n",
       "      <td>-24.274</td>\n",
       "      <td>0.992</td>\n",
       "      <td>0.002490</td>\n",
       "      <td>0.0712</td>\n",
       "      <td>83.645</td>\n",
       "      <td>169893</td>\n",
       "      <td>2004.0</td>\n",
       "      <td>1.221370e+13</td>\n",
       "      <td>2.831550</td>\n",
       "    </tr>\n",
       "  </tbody>\n",
       "</table>\n",
       "</div>"
      ],
      "text/plain": [
       "   Unnamed: 0.1  Unnamed: 0     genre  year  \\\n",
       "0             0           0  acoustic  2000   \n",
       "1             1           1     opera  2000   \n",
       "2             2           2     opera  2000   \n",
       "3             3           3     opera  2000   \n",
       "4             4           4     opera  2000   \n",
       "\n",
       "                                          track_name  popularity  \\\n",
       "0                                       Easy Tonight          37   \n",
       "1      Blumenlieder, Op. 500: No. 7, Herbstzeitlosen           0   \n",
       "2         Blumenlieder, Op. 500: No. 15, Feuernelken           0   \n",
       "3  Die Gräfin Mariza: Einmal möchte ich wieder ta...           0   \n",
       "4            Blumenlieder, Op. 500: No. 12, Anemonen           0   \n",
       "\n",
       "   danceability  loudness  acousticness  instrumentalness  liveness    tempo  \\\n",
       "0         0.470    -8.018         0.259          0.000000    0.2040   84.843   \n",
       "1         0.258   -29.012         0.991          0.001190    0.0790   89.835   \n",
       "2         0.432   -26.235         0.989          0.002200    0.0618  136.726   \n",
       "3         0.327   -14.306         0.963          0.000832    0.0888   97.870   \n",
       "4         0.385   -24.274         0.992          0.002490    0.0712   83.645   \n",
       "\n",
       "   duration_ms  GDP_year           GDP  duration_min  \n",
       "0       246600    2000.0  1.025230e+13      4.110000  \n",
       "1       157920    2001.0  1.058180e+13      2.632000  \n",
       "2       193187    2002.0  1.093640e+13      3.219783  \n",
       "3       208040    2003.0  1.145820e+13      3.467333  \n",
       "4       169893    2004.0  1.221370e+13      2.831550  "
      ]
     },
     "execution_count": 2,
     "metadata": {},
     "output_type": "execute_result"
    }
   ],
   "source": [
    "# loading the data\n",
    "\n",
    "Merged_prep = pd.read_csv('Merged_eda.csv')\n",
    "Merged_prep.head()"
   ]
  },
  {
   "cell_type": "code",
   "execution_count": 3,
   "id": "d976fecb-9657-4134-8f76-ad54a4361364",
   "metadata": {},
   "outputs": [],
   "source": [
    "# Dropping Unnamed columns\n",
    "\n",
    "Merged_prep= Merged_prep.drop(columns= ['Unnamed: 0.1','Unnamed: 0'], axis =1)\n"
   ]
  },
  {
   "cell_type": "code",
   "execution_count": 4,
   "id": "7c6b2d92-4367-446a-91ef-f5419d4fe4fd",
   "metadata": {},
   "outputs": [
    {
     "data": {
      "text/html": [
       "<div>\n",
       "<style scoped>\n",
       "    .dataframe tbody tr th:only-of-type {\n",
       "        vertical-align: middle;\n",
       "    }\n",
       "\n",
       "    .dataframe tbody tr th {\n",
       "        vertical-align: top;\n",
       "    }\n",
       "\n",
       "    .dataframe thead th {\n",
       "        text-align: right;\n",
       "    }\n",
       "</style>\n",
       "<table border=\"1\" class=\"dataframe\">\n",
       "  <thead>\n",
       "    <tr style=\"text-align: right;\">\n",
       "      <th></th>\n",
       "      <th>genre</th>\n",
       "      <th>year</th>\n",
       "      <th>track_name</th>\n",
       "      <th>popularity</th>\n",
       "      <th>danceability</th>\n",
       "      <th>loudness</th>\n",
       "      <th>acousticness</th>\n",
       "      <th>instrumentalness</th>\n",
       "      <th>liveness</th>\n",
       "      <th>tempo</th>\n",
       "      <th>duration_ms</th>\n",
       "      <th>GDP_year</th>\n",
       "      <th>GDP</th>\n",
       "      <th>duration_min</th>\n",
       "    </tr>\n",
       "  </thead>\n",
       "  <tbody>\n",
       "    <tr>\n",
       "      <th>0</th>\n",
       "      <td>acoustic</td>\n",
       "      <td>2000</td>\n",
       "      <td>Easy Tonight</td>\n",
       "      <td>37</td>\n",
       "      <td>0.470</td>\n",
       "      <td>-8.018</td>\n",
       "      <td>0.259</td>\n",
       "      <td>0.000000</td>\n",
       "      <td>0.2040</td>\n",
       "      <td>84.843</td>\n",
       "      <td>246600</td>\n",
       "      <td>2000.0</td>\n",
       "      <td>1.025230e+13</td>\n",
       "      <td>4.110000</td>\n",
       "    </tr>\n",
       "    <tr>\n",
       "      <th>1</th>\n",
       "      <td>opera</td>\n",
       "      <td>2000</td>\n",
       "      <td>Blumenlieder, Op. 500: No. 7, Herbstzeitlosen</td>\n",
       "      <td>0</td>\n",
       "      <td>0.258</td>\n",
       "      <td>-29.012</td>\n",
       "      <td>0.991</td>\n",
       "      <td>0.001190</td>\n",
       "      <td>0.0790</td>\n",
       "      <td>89.835</td>\n",
       "      <td>157920</td>\n",
       "      <td>2001.0</td>\n",
       "      <td>1.058180e+13</td>\n",
       "      <td>2.632000</td>\n",
       "    </tr>\n",
       "    <tr>\n",
       "      <th>2</th>\n",
       "      <td>opera</td>\n",
       "      <td>2000</td>\n",
       "      <td>Blumenlieder, Op. 500: No. 15, Feuernelken</td>\n",
       "      <td>0</td>\n",
       "      <td>0.432</td>\n",
       "      <td>-26.235</td>\n",
       "      <td>0.989</td>\n",
       "      <td>0.002200</td>\n",
       "      <td>0.0618</td>\n",
       "      <td>136.726</td>\n",
       "      <td>193187</td>\n",
       "      <td>2002.0</td>\n",
       "      <td>1.093640e+13</td>\n",
       "      <td>3.219783</td>\n",
       "    </tr>\n",
       "    <tr>\n",
       "      <th>3</th>\n",
       "      <td>opera</td>\n",
       "      <td>2000</td>\n",
       "      <td>Die Gräfin Mariza: Einmal möchte ich wieder ta...</td>\n",
       "      <td>0</td>\n",
       "      <td>0.327</td>\n",
       "      <td>-14.306</td>\n",
       "      <td>0.963</td>\n",
       "      <td>0.000832</td>\n",
       "      <td>0.0888</td>\n",
       "      <td>97.870</td>\n",
       "      <td>208040</td>\n",
       "      <td>2003.0</td>\n",
       "      <td>1.145820e+13</td>\n",
       "      <td>3.467333</td>\n",
       "    </tr>\n",
       "    <tr>\n",
       "      <th>4</th>\n",
       "      <td>opera</td>\n",
       "      <td>2000</td>\n",
       "      <td>Blumenlieder, Op. 500: No. 12, Anemonen</td>\n",
       "      <td>0</td>\n",
       "      <td>0.385</td>\n",
       "      <td>-24.274</td>\n",
       "      <td>0.992</td>\n",
       "      <td>0.002490</td>\n",
       "      <td>0.0712</td>\n",
       "      <td>83.645</td>\n",
       "      <td>169893</td>\n",
       "      <td>2004.0</td>\n",
       "      <td>1.221370e+13</td>\n",
       "      <td>2.831550</td>\n",
       "    </tr>\n",
       "  </tbody>\n",
       "</table>\n",
       "</div>"
      ],
      "text/plain": [
       "      genre  year                                         track_name  \\\n",
       "0  acoustic  2000                                       Easy Tonight   \n",
       "1     opera  2000      Blumenlieder, Op. 500: No. 7, Herbstzeitlosen   \n",
       "2     opera  2000         Blumenlieder, Op. 500: No. 15, Feuernelken   \n",
       "3     opera  2000  Die Gräfin Mariza: Einmal möchte ich wieder ta...   \n",
       "4     opera  2000            Blumenlieder, Op. 500: No. 12, Anemonen   \n",
       "\n",
       "   popularity  danceability  loudness  acousticness  instrumentalness  \\\n",
       "0          37         0.470    -8.018         0.259          0.000000   \n",
       "1           0         0.258   -29.012         0.991          0.001190   \n",
       "2           0         0.432   -26.235         0.989          0.002200   \n",
       "3           0         0.327   -14.306         0.963          0.000832   \n",
       "4           0         0.385   -24.274         0.992          0.002490   \n",
       "\n",
       "   liveness    tempo  duration_ms  GDP_year           GDP  duration_min  \n",
       "0    0.2040   84.843       246600    2000.0  1.025230e+13      4.110000  \n",
       "1    0.0790   89.835       157920    2001.0  1.058180e+13      2.632000  \n",
       "2    0.0618  136.726       193187    2002.0  1.093640e+13      3.219783  \n",
       "3    0.0888   97.870       208040    2003.0  1.145820e+13      3.467333  \n",
       "4    0.0712   83.645       169893    2004.0  1.221370e+13      2.831550  "
      ]
     },
     "execution_count": 4,
     "metadata": {},
     "output_type": "execute_result"
    }
   ],
   "source": [
    "Merged_prep.head()"
   ]
  },
  {
   "cell_type": "code",
   "execution_count": 5,
   "id": "d81f1af8-6a0d-4397-a7ac-97419f1ad4e8",
   "metadata": {},
   "outputs": [
    {
     "data": {
      "text/plain": [
       "genre                     0\n",
       "year                      0\n",
       "track_name                1\n",
       "popularity                0\n",
       "danceability              0\n",
       "loudness                  0\n",
       "acousticness              0\n",
       "instrumentalness          0\n",
       "liveness                  0\n",
       "tempo                     0\n",
       "duration_ms               0\n",
       "GDP_year            1159740\n",
       "GDP                 1159740\n",
       "duration_min              0\n",
       "dtype: int64"
      ]
     },
     "execution_count": 5,
     "metadata": {},
     "output_type": "execute_result"
    }
   ],
   "source": [
    "Merged_prep.isnull().sum()"
   ]
  },
  {
   "cell_type": "raw",
   "id": "dabc07dd-9d15-4cf6-a78c-70e1f1bc7161",
   "metadata": {},
   "source": [
    "Handling missing values in these columns:\n",
    "\n",
    "1. track_name is difficult to substitute with any other value. The entire column will not be useful to the model it will be dropped.\n",
    "2. GDP_year with missing values will be replaced with 0 and these values will be replaced with year values.The rest of the values which are float values will be converted into 'int' data type.\n",
    "3. GDP missing values will be replaced with 0 and these values will then be replaced by GDP values from other rows with similar year values."
   ]
  },
  {
   "cell_type": "code",
   "execution_count": 6,
   "id": "3eb77b44-86eb-4ceb-b56d-69ab9befbbfa",
   "metadata": {},
   "outputs": [],
   "source": [
    "# Handling missing track_name value\n",
    "\n",
    "Merged_prep = Merged_prep.drop('track_name',axis =1)"
   ]
  },
  {
   "cell_type": "code",
   "execution_count": 7,
   "id": "093b3481-33aa-4502-856f-a6df05ae2887",
   "metadata": {},
   "outputs": [
    {
     "data": {
      "text/plain": [
       "0    2000.0\n",
       "1    2001.0\n",
       "2    2002.0\n",
       "3    2003.0\n",
       "4    2004.0\n",
       "Name: GDP_year, dtype: float64"
      ]
     },
     "execution_count": 7,
     "metadata": {},
     "output_type": "execute_result"
    }
   ],
   "source": [
    "# Handling missing GDP_year\n",
    "\n",
    "Merged_prep['GDP_year'].fillna(0, inplace=True)\n",
    "\n",
    "Merged_prep['GDP_year'] = Merged_prep['GDP_year'].apply(lambda x: year.values if x == '0' else x)\n",
    "Merged_prep['GDP_year'].head(5)"
   ]
  },
  {
   "cell_type": "code",
   "execution_count": 8,
   "id": "32236d86-21d3-40c2-8e08-70469e5d0fca",
   "metadata": {},
   "outputs": [],
   "source": [
    "# Coverting float GDP_year values to int\n",
    "\n",
    "Merged_prep['GDP_year']= Merged_prep['GDP_year'].astype('int')"
   ]
  },
  {
   "cell_type": "code",
   "execution_count": 9,
   "id": "e7427dfd-2f88-491c-8947-0e1d911f722c",
   "metadata": {},
   "outputs": [],
   "source": [
    "# Handling GDP values\n",
    "\n",
    "Merged_prep['GDP'].fillna(0, inplace=True)\n",
    "Merged_prep['GDP'] = Merged_prep['GDP'].apply(lambda x: GDP.values if x == '0' else x)"
   ]
  },
  {
   "cell_type": "code",
   "execution_count": 10,
   "id": "166af7d0-5aca-421c-b414-eb84cdf1adcf",
   "metadata": {},
   "outputs": [
    {
     "data": {
      "text/html": [
       "<div>\n",
       "<style scoped>\n",
       "    .dataframe tbody tr th:only-of-type {\n",
       "        vertical-align: middle;\n",
       "    }\n",
       "\n",
       "    .dataframe tbody tr th {\n",
       "        vertical-align: top;\n",
       "    }\n",
       "\n",
       "    .dataframe thead th {\n",
       "        text-align: right;\n",
       "    }\n",
       "</style>\n",
       "<table border=\"1\" class=\"dataframe\">\n",
       "  <thead>\n",
       "    <tr style=\"text-align: right;\">\n",
       "      <th></th>\n",
       "      <th>genre</th>\n",
       "      <th>year</th>\n",
       "      <th>popularity</th>\n",
       "      <th>danceability</th>\n",
       "      <th>loudness</th>\n",
       "      <th>acousticness</th>\n",
       "      <th>instrumentalness</th>\n",
       "      <th>liveness</th>\n",
       "      <th>tempo</th>\n",
       "      <th>duration_ms</th>\n",
       "      <th>GDP_year</th>\n",
       "      <th>GDP</th>\n",
       "      <th>duration_min</th>\n",
       "    </tr>\n",
       "  </thead>\n",
       "  <tbody>\n",
       "    <tr>\n",
       "      <th>0</th>\n",
       "      <td>acoustic</td>\n",
       "      <td>2000</td>\n",
       "      <td>37</td>\n",
       "      <td>0.470</td>\n",
       "      <td>-8.018</td>\n",
       "      <td>0.259</td>\n",
       "      <td>0.000000</td>\n",
       "      <td>0.2040</td>\n",
       "      <td>84.843</td>\n",
       "      <td>246600</td>\n",
       "      <td>2000</td>\n",
       "      <td>1.025230e+13</td>\n",
       "      <td>4.110000</td>\n",
       "    </tr>\n",
       "    <tr>\n",
       "      <th>1</th>\n",
       "      <td>opera</td>\n",
       "      <td>2000</td>\n",
       "      <td>0</td>\n",
       "      <td>0.258</td>\n",
       "      <td>-29.012</td>\n",
       "      <td>0.991</td>\n",
       "      <td>0.001190</td>\n",
       "      <td>0.0790</td>\n",
       "      <td>89.835</td>\n",
       "      <td>157920</td>\n",
       "      <td>2001</td>\n",
       "      <td>1.058180e+13</td>\n",
       "      <td>2.632000</td>\n",
       "    </tr>\n",
       "    <tr>\n",
       "      <th>2</th>\n",
       "      <td>opera</td>\n",
       "      <td>2000</td>\n",
       "      <td>0</td>\n",
       "      <td>0.432</td>\n",
       "      <td>-26.235</td>\n",
       "      <td>0.989</td>\n",
       "      <td>0.002200</td>\n",
       "      <td>0.0618</td>\n",
       "      <td>136.726</td>\n",
       "      <td>193187</td>\n",
       "      <td>2002</td>\n",
       "      <td>1.093640e+13</td>\n",
       "      <td>3.219783</td>\n",
       "    </tr>\n",
       "    <tr>\n",
       "      <th>3</th>\n",
       "      <td>opera</td>\n",
       "      <td>2000</td>\n",
       "      <td>0</td>\n",
       "      <td>0.327</td>\n",
       "      <td>-14.306</td>\n",
       "      <td>0.963</td>\n",
       "      <td>0.000832</td>\n",
       "      <td>0.0888</td>\n",
       "      <td>97.870</td>\n",
       "      <td>208040</td>\n",
       "      <td>2003</td>\n",
       "      <td>1.145820e+13</td>\n",
       "      <td>3.467333</td>\n",
       "    </tr>\n",
       "    <tr>\n",
       "      <th>4</th>\n",
       "      <td>opera</td>\n",
       "      <td>2000</td>\n",
       "      <td>0</td>\n",
       "      <td>0.385</td>\n",
       "      <td>-24.274</td>\n",
       "      <td>0.992</td>\n",
       "      <td>0.002490</td>\n",
       "      <td>0.0712</td>\n",
       "      <td>83.645</td>\n",
       "      <td>169893</td>\n",
       "      <td>2004</td>\n",
       "      <td>1.221370e+13</td>\n",
       "      <td>2.831550</td>\n",
       "    </tr>\n",
       "  </tbody>\n",
       "</table>\n",
       "</div>"
      ],
      "text/plain": [
       "      genre  year  popularity  danceability  loudness  acousticness  \\\n",
       "0  acoustic  2000          37         0.470    -8.018         0.259   \n",
       "1     opera  2000           0         0.258   -29.012         0.991   \n",
       "2     opera  2000           0         0.432   -26.235         0.989   \n",
       "3     opera  2000           0         0.327   -14.306         0.963   \n",
       "4     opera  2000           0         0.385   -24.274         0.992   \n",
       "\n",
       "   instrumentalness  liveness    tempo  duration_ms  GDP_year           GDP  \\\n",
       "0          0.000000    0.2040   84.843       246600      2000  1.025230e+13   \n",
       "1          0.001190    0.0790   89.835       157920      2001  1.058180e+13   \n",
       "2          0.002200    0.0618  136.726       193187      2002  1.093640e+13   \n",
       "3          0.000832    0.0888   97.870       208040      2003  1.145820e+13   \n",
       "4          0.002490    0.0712   83.645       169893      2004  1.221370e+13   \n",
       "\n",
       "   duration_min  \n",
       "0      4.110000  \n",
       "1      2.632000  \n",
       "2      3.219783  \n",
       "3      3.467333  \n",
       "4      2.831550  "
      ]
     },
     "execution_count": 10,
     "metadata": {},
     "output_type": "execute_result"
    }
   ],
   "source": [
    "# Checking if changes have been effected\n",
    "\n",
    "Merged_prep.head()"
   ]
  },
  {
   "cell_type": "code",
   "execution_count": 11,
   "id": "7478658c-08ee-4539-9e87-2e25466bdb60",
   "metadata": {},
   "outputs": [
    {
     "name": "stdout",
     "output_type": "stream",
     "text": [
      "<class 'pandas.core.frame.DataFrame'>\n",
      "RangeIndex: 1159764 entries, 0 to 1159763\n",
      "Data columns (total 13 columns):\n",
      " #   Column            Non-Null Count    Dtype  \n",
      "---  ------            --------------    -----  \n",
      " 0   genre             1159764 non-null  object \n",
      " 1   year              1159764 non-null  int64  \n",
      " 2   popularity        1159764 non-null  int64  \n",
      " 3   danceability      1159764 non-null  float64\n",
      " 4   loudness          1159764 non-null  float64\n",
      " 5   acousticness      1159764 non-null  float64\n",
      " 6   instrumentalness  1159764 non-null  float64\n",
      " 7   liveness          1159764 non-null  float64\n",
      " 8   tempo             1159764 non-null  float64\n",
      " 9   duration_ms       1159764 non-null  int64  \n",
      " 10  GDP_year          1159764 non-null  int32  \n",
      " 11  GDP               1159764 non-null  float64\n",
      " 12  duration_min      1159764 non-null  float64\n",
      "dtypes: float64(8), int32(1), int64(3), object(1)\n",
      "memory usage: 110.6+ MB\n"
     ]
    }
   ],
   "source": [
    "Merged_prep.info()"
   ]
  },
  {
   "cell_type": "code",
   "execution_count": 12,
   "id": "5cd4e3e4-6d7b-4f23-9e28-cc9ee5e6f846",
   "metadata": {},
   "outputs": [
    {
     "data": {
      "text/plain": [
       "genre               0\n",
       "year                0\n",
       "popularity          0\n",
       "danceability        0\n",
       "loudness            0\n",
       "acousticness        0\n",
       "instrumentalness    0\n",
       "liveness            0\n",
       "tempo               0\n",
       "duration_ms         0\n",
       "GDP_year            0\n",
       "GDP                 0\n",
       "duration_min        0\n",
       "dtype: int64"
      ]
     },
     "execution_count": 12,
     "metadata": {},
     "output_type": "execute_result"
    }
   ],
   "source": [
    "Merged_prep.isnull().sum()"
   ]
  },
  {
   "cell_type": "code",
   "execution_count": 13,
   "id": "0c00ea9f-77f4-47d7-be78-2a5464ff0489",
   "metadata": {},
   "outputs": [],
   "source": [
    "# Defining X and y\n",
    "\n",
    "X= Merged_prep.drop(columns=['popularity'])\n",
    "y= Merged_prep['popularity']"
   ]
  },
  {
   "cell_type": "markdown",
   "id": "539468b9-6e6a-4505-94bc-05ac46f8b01c",
   "metadata": {},
   "source": [
    "The second stage of preprocessing requires that data is split into training and testing sets. To do this, the train/test split from sklearn.model_selection will be used."
   ]
  },
  {
   "cell_type": "code",
   "execution_count": 14,
   "id": "7e456141-d82b-4620-a4f5-07a104bae9c0",
   "metadata": {},
   "outputs": [
    {
     "data": {
      "text/plain": [
       "(869823.0, 289941.0)"
      ]
     },
     "execution_count": 14,
     "metadata": {},
     "output_type": "execute_result"
    }
   ],
   "source": [
    "# Using train/test split to prepare training data\n",
    "\n",
    "len(Merged_prep) * 0.75, len(Merged_prep)* 0.25"
   ]
  },
  {
   "cell_type": "code",
   "execution_count": 15,
   "id": "43551741-2f67-4af2-b757-3a9372f9fa26",
   "metadata": {},
   "outputs": [],
   "source": [
    "X_train, X_test, y_train, y_test = train_test_split(Merged_prep.drop(columns=['popularity'],axis=1), \n",
    "                                                    Merged_prep.popularity, test_size=0.25, \n",
    "                                                    random_state=47)"
   ]
  },
  {
   "cell_type": "code",
   "execution_count": 16,
   "id": "27b38144-a965-47c0-b0fb-0111a4021819",
   "metadata": {},
   "outputs": [
    {
     "data": {
      "text/plain": [
       "((869823, 12), (289941, 12))"
      ]
     },
     "execution_count": 16,
     "metadata": {},
     "output_type": "execute_result"
    }
   ],
   "source": [
    "X_train.shape, X_test.shape"
   ]
  },
  {
   "cell_type": "code",
   "execution_count": 17,
   "id": "9e3ff7df-9ef4-4dba-9d22-6cdcc9eae46a",
   "metadata": {},
   "outputs": [
    {
     "data": {
      "text/plain": [
       "((869823,), (289941,))"
      ]
     },
     "execution_count": 17,
     "metadata": {},
     "output_type": "execute_result"
    }
   ],
   "source": [
    "y_train.shape, y_test.shape"
   ]
  },
  {
   "cell_type": "code",
   "execution_count": 18,
   "id": "72ef89e6-a970-41df-8e9c-df77aab3d640",
   "metadata": {},
   "outputs": [
    {
     "data": {
      "text/plain": [
       "genre                object\n",
       "year                  int64\n",
       "danceability        float64\n",
       "loudness            float64\n",
       "acousticness        float64\n",
       "instrumentalness    float64\n",
       "liveness            float64\n",
       "tempo               float64\n",
       "duration_ms           int64\n",
       "GDP_year              int32\n",
       "GDP                 float64\n",
       "duration_min        float64\n",
       "dtype: object"
      ]
     },
     "execution_count": 18,
     "metadata": {},
     "output_type": "execute_result"
    }
   ],
   "source": [
    "# Verify X_train values are all numeric\n",
    "\n",
    "X_train.dtypes"
   ]
  },
  {
   "cell_type": "code",
   "execution_count": 19,
   "id": "9f8213f9-9b77-4577-ba84-942bee4ccd21",
   "metadata": {},
   "outputs": [
    {
     "data": {
      "text/plain": [
       "genre                object\n",
       "year                  int64\n",
       "danceability        float64\n",
       "loudness            float64\n",
       "acousticness        float64\n",
       "instrumentalness    float64\n",
       "liveness            float64\n",
       "tempo               float64\n",
       "duration_ms           int64\n",
       "GDP_year              int32\n",
       "GDP                 float64\n",
       "duration_min        float64\n",
       "dtype: object"
      ]
     },
     "execution_count": 19,
     "metadata": {},
     "output_type": "execute_result"
    }
   ],
   "source": [
    "# Verify X_test values are all numeric\n",
    "\n",
    "X_test.dtypes"
   ]
  },
  {
   "cell_type": "code",
   "execution_count": 20,
   "id": "bc2f9749-197a-4288-ab3c-3a3ff71a44f5",
   "metadata": {},
   "outputs": [],
   "source": [
    "# Determine numerical and categorical columns\n",
    "\n",
    "num= X.select_dtypes(include=['int', 'float']).columns\n",
    "cat= X.select_dtypes(include=['object','bool']).columns\n"
   ]
  },
  {
   "cell_type": "code",
   "execution_count": 21,
   "id": "744f0517-c73f-4d43-afae-a020091ec0e4",
   "metadata": {},
   "outputs": [],
   "source": [
    "# Transforming columns using OneHotEncoder for categorical columns and StandardScaler for numerical columns.\n",
    "# Using ColumnTransformer which allows different columns to be transformed separately and the features generated by each transformer to be concatenated to form a single feature space\n",
    "\n",
    "col_transform = ColumnTransformer(transformers=[('scaler', StandardScaler(), ['year', 'acousticness', 'liveness', 'instrumentalness','duration_min', 'GDP']),\n",
    "        ('encoder', OneHotEncoder(), ['genre'])])"
   ]
  },
  {
   "cell_type": "code",
   "execution_count": 22,
   "id": "a75f6d77-f2e4-4f09-b9a0-26d55e985ea5",
   "metadata": {},
   "outputs": [],
   "source": [
    "# Using fit_transform on Merged_model dataframe to fit and trandform columns using ColumnTransform defined above \n",
    "\n",
    "col_transformed = col_transform.fit_transform(Merged_prep)"
   ]
  },
  {
   "cell_type": "markdown",
   "id": "8b9f2b14-9c4c-4347-9aca-0a1274566582",
   "metadata": {},
   "source": [
    "At the next stage of the project, models will be choosen and a pipeline which contains all the steps required in preparing the data and the model will be defined. \n",
    "\n",
    "For the proposed predictive model, linear regression and logistic regression models will be tested. For the linear regression model, it is necessary to apply Ridge regression instead because of the detection of multicollinearity between some of the predictor variables at eda stage of the project.\n",
    "\n",
    "For both the Ridge Regression and logistic regression models that will be tested this dataset, cross_validate from sklearn.model_selection will be used to fit and assess the models performance.\n",
    "Both models will be assessed using: \n",
    "1. Mean Absolute Error scores which will be calculated for both.\n",
    "2. Coefficient of determination/r2\n",
    "   "
   ]
  },
  {
   "cell_type": "code",
   "execution_count": 24,
   "id": "f93822c1-298c-4fff-bfd9-548d403bfc4f",
   "metadata": {},
   "outputs": [],
   "source": [
    "# Saving train and test sets\n",
    "\n",
    "dataset_dict = {\n",
    "    \"X_train\": X_train,\n",
    "    \"X_test\": X_test,\n",
    "    \"y_train\": y_train,\n",
    "    \"y_test\": y_test\n",
    "}\n",
    "\n",
    "with open('dataset_dict.pickle', 'wb') as file:\n",
    "    pickle.dump(dataset_dict, file)"
   ]
  },
  {
   "cell_type": "markdown",
   "id": "58c7a269-1900-4452-80f8-87b74fe9623f",
   "metadata": {},
   "source": [
    "# SUMMARY\n",
    "\n",
    "At the preprocessing stage of the project, missing values were handled by dropping an entire column(track_name) and by replacing missing values with 0 in GDP and GDP_year columns.\n",
    "\n",
    "X and y variables were defined and data was split into training and test sets in the ratio of 75:25.\n",
    "\n",
    "Numerical and categorical columns were defined. Numerical columns were transformed using the StandardScaler and categorical columns were transformed using the OneHotEncoder. These transfromations were combined into a single feature space with ColumnTransformer.\n",
    "\n",
    "ColumnTransformer was used to fit and transform dataframe.\n",
    "\n",
    "Training and Test sets together with Col_Transformer weresaved using the pickle module"
   ]
  }
 ],
 "metadata": {
  "kernelspec": {
   "display_name": "Python 3 (ipykernel)",
   "language": "python",
   "name": "python3"
  },
  "language_info": {
   "codemirror_mode": {
    "name": "ipython",
    "version": 3
   },
   "file_extension": ".py",
   "mimetype": "text/x-python",
   "name": "python",
   "nbconvert_exporter": "python",
   "pygments_lexer": "ipython3",
   "version": "3.11.5"
  }
 },
 "nbformat": 4,
 "nbformat_minor": 5
}
